{
  "cells": [
    {
      "cell_type": "markdown",
      "metadata": {
        "id": "view-in-github",
        "colab_type": "text"
      },
      "source": [
        "<a href=\"https://colab.research.google.com/github/ArjanAngenent/ArjanAngenent/blob/main/Copy_V2_of_Bloc5.ipynb\" target=\"_parent\"><img src=\"https://colab.research.google.com/assets/colab-badge.svg\" alt=\"Open In Colab\"/></a>"
      ]
    },
    {
      "cell_type": "markdown",
      "metadata": {
        "id": "wtggzSoGJwCU"
      },
      "source": [
        "![logo lw.png](data:image/png;base64,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)"
      ]
    },
    {
      "cell_type": "markdown",
      "metadata": {
        "id": "fpAtLyFSJv6I"
      },
      "source": [
        "\n",
        "Vous travaillez dans l'équipe data de GreenThumb. Votre mission est d'explorer les données de l'entreprise et de développer un modèle de Deep Learning pour analyser les sentiments des reviews.\n",
        "\n",
        "Consignes :\n",
        "- Répondez aux questions : Remplissez les cellules de code ou de texte lorsque vous voyez *Répondez ici*.\n",
        "\n",
        "- Focus sur les [reviews](https://wagon-public-datasets.s3.amazonaws.com/certification/da-ds-de/reviews.csv) : Concentrez-vous sur l'analyse de sentiment des reviews.\n",
        "\n",
        "- Utilisez le Deep Learning : Développez des modèles de Deep Learning.\n",
        "\n",
        "- Priorité à l'apprentissage correct : Le temps est limité, l'objectif est d'avoir des modèles qui apprennent correctement, pas nécessairement les plus performants."
      ]
    },
    {
      "cell_type": "markdown",
      "metadata": {
        "id": "rNoFIWQeKFaJ"
      },
      "source": [
        "# Exploration de la donnée"
      ]
    },
    {
      "cell_type": "markdown",
      "metadata": {
        "id": "bR4S1b2aKn3H"
      },
      "source": [
        "Nous allons nous concentrer sur le **[reviews_df](https://wagon-public-datasets.s3.amazonaws.com/certification/da-ds-de/reviews.csv)**.\n",
        "\n",
        "Exectuez la cellule ci-dessous pour récupérer la donnée."
      ]
    },
    {
      "cell_type": "code",
      "execution_count": 21,
      "metadata": {
        "id": "1IdZhLuOKnXv"
      },
      "outputs": [],
      "source": [
        "import pandas as pd\n",
        "\n",
        "reviews_df = pd.read_csv(\"https://wagon-public-datasets.s3.amazonaws.com/certification/da-ds-de/reviews.csv\")"
      ]
    },
    {
      "cell_type": "markdown",
      "metadata": {
        "id": "GhL5Wx4lK0y_"
      },
      "source": [
        "1 / Supprimez toutes les lignes avec des valeurs manquantes et toutes les lignes en double."
      ]
    },
    {
      "cell_type": "code",
      "execution_count": 22,
      "metadata": {
        "id": "RvIrWuWwFvW8",
        "colab": {
          "base_uri": "https://localhost:8080/",
          "height": 423
        },
        "outputId": "651ab10b-71e3-41ff-d5c1-c8e2092fe8c2"
      },
      "outputs": [
        {
          "output_type": "execute_result",
          "data": {
            "text/plain": [
              "      ReviewID  ReviewScore  \\\n",
              "0            1            4   \n",
              "1            1            5   \n",
              "2            1            4   \n",
              "3            1            4   \n",
              "4            1            4   \n",
              "...        ...          ...   \n",
              "9241         1            3   \n",
              "9242         1            2   \n",
              "9243         1            4   \n",
              "9244         1            5   \n",
              "9245         1            3   \n",
              "\n",
              "                                             ReviewText  OrderID  \n",
              "0     Product came As expected, timely and well-pack...   814344  \n",
              "1     Indoor Sweet-scented Or Creating Perfect outdo...   501052  \n",
              "2     Efficient delivery, item matches the online de...   824173  \n",
              "3                ITEM ARRIVED ON TIME AND AS DESCRIBED.     8078  \n",
              "4     Satisfactory experience, would recommend to ot...   376448  \n",
              "...                                                 ...      ...  \n",
              "9241  pleased with bringing of vibrant perfect color...   131688  \n",
              "9242  I WAS REALLY DISAPPOINTED WITH YEARS, THE BONS...    96102  \n",
              "9243  Enjoyed desert touch mix home offering cacti,....    79174  \n",
              "9244  Thrilled with the purchase, far exceeds expect...   735579  \n",
              "9245  ENJOYED MEDICINAL VERA EASY BENEFITS AND FOR. ...   508735  \n",
              "\n",
              "[9246 rows x 4 columns]"
            ],
            "text/html": [
              "\n",
              "  <div id=\"df-6fc67312-9b93-4102-9f19-fa40d7e5bc66\" class=\"colab-df-container\">\n",
              "    <div>\n",
              "<style scoped>\n",
              "    .dataframe tbody tr th:only-of-type {\n",
              "        vertical-align: middle;\n",
              "    }\n",
              "\n",
              "    .dataframe tbody tr th {\n",
              "        vertical-align: top;\n",
              "    }\n",
              "\n",
              "    .dataframe thead th {\n",
              "        text-align: right;\n",
              "    }\n",
              "</style>\n",
              "<table border=\"1\" class=\"dataframe\">\n",
              "  <thead>\n",
              "    <tr style=\"text-align: right;\">\n",
              "      <th></th>\n",
              "      <th>ReviewID</th>\n",
              "      <th>ReviewScore</th>\n",
              "      <th>ReviewText</th>\n",
              "      <th>OrderID</th>\n",
              "    </tr>\n",
              "  </thead>\n",
              "  <tbody>\n",
              "    <tr>\n",
              "      <th>0</th>\n",
              "      <td>1</td>\n",
              "      <td>4</td>\n",
              "      <td>Product came As expected, timely and well-pack...</td>\n",
              "      <td>814344</td>\n",
              "    </tr>\n",
              "    <tr>\n",
              "      <th>1</th>\n",
              "      <td>1</td>\n",
              "      <td>5</td>\n",
              "      <td>Indoor Sweet-scented Or Creating Perfect outdo...</td>\n",
              "      <td>501052</td>\n",
              "    </tr>\n",
              "    <tr>\n",
              "      <th>2</th>\n",
              "      <td>1</td>\n",
              "      <td>4</td>\n",
              "      <td>Efficient delivery, item matches the online de...</td>\n",
              "      <td>824173</td>\n",
              "    </tr>\n",
              "    <tr>\n",
              "      <th>3</th>\n",
              "      <td>1</td>\n",
              "      <td>4</td>\n",
              "      <td>ITEM ARRIVED ON TIME AND AS DESCRIBED.</td>\n",
              "      <td>8078</td>\n",
              "    </tr>\n",
              "    <tr>\n",
              "      <th>4</th>\n",
              "      <td>1</td>\n",
              "      <td>4</td>\n",
              "      <td>Satisfactory experience, would recommend to ot...</td>\n",
              "      <td>376448</td>\n",
              "    </tr>\n",
              "    <tr>\n",
              "      <th>...</th>\n",
              "      <td>...</td>\n",
              "      <td>...</td>\n",
              "      <td>...</td>\n",
              "      <td>...</td>\n",
              "    </tr>\n",
              "    <tr>\n",
              "      <th>9241</th>\n",
              "      <td>1</td>\n",
              "      <td>3</td>\n",
              "      <td>pleased with bringing of vibrant perfect color...</td>\n",
              "      <td>131688</td>\n",
              "    </tr>\n",
              "    <tr>\n",
              "      <th>9242</th>\n",
              "      <td>1</td>\n",
              "      <td>2</td>\n",
              "      <td>I WAS REALLY DISAPPOINTED WITH YEARS, THE BONS...</td>\n",
              "      <td>96102</td>\n",
              "    </tr>\n",
              "    <tr>\n",
              "      <th>9243</th>\n",
              "      <td>1</td>\n",
              "      <td>4</td>\n",
              "      <td>Enjoyed desert touch mix home offering cacti,....</td>\n",
              "      <td>79174</td>\n",
              "    </tr>\n",
              "    <tr>\n",
              "      <th>9244</th>\n",
              "      <td>1</td>\n",
              "      <td>5</td>\n",
              "      <td>Thrilled with the purchase, far exceeds expect...</td>\n",
              "      <td>735579</td>\n",
              "    </tr>\n",
              "    <tr>\n",
              "      <th>9245</th>\n",
              "      <td>1</td>\n",
              "      <td>3</td>\n",
              "      <td>ENJOYED MEDICINAL VERA EASY BENEFITS AND FOR. ...</td>\n",
              "      <td>508735</td>\n",
              "    </tr>\n",
              "  </tbody>\n",
              "</table>\n",
              "<p>9246 rows × 4 columns</p>\n",
              "</div>\n",
              "    <div class=\"colab-df-buttons\">\n",
              "\n",
              "  <div class=\"colab-df-container\">\n",
              "    <button class=\"colab-df-convert\" onclick=\"convertToInteractive('df-6fc67312-9b93-4102-9f19-fa40d7e5bc66')\"\n",
              "            title=\"Convert this dataframe to an interactive table.\"\n",
              "            style=\"display:none;\">\n",
              "\n",
              "  <svg xmlns=\"http://www.w3.org/2000/svg\" height=\"24px\" viewBox=\"0 -960 960 960\">\n",
              "    <path d=\"M120-120v-720h720v720H120Zm60-500h600v-160H180v160Zm220 220h160v-160H400v160Zm0 220h160v-160H400v160ZM180-400h160v-160H180v160Zm440 0h160v-160H620v160ZM180-180h160v-160H180v160Zm440 0h160v-160H620v160Z\"/>\n",
              "  </svg>\n",
              "    </button>\n",
              "\n",
              "  <style>\n",
              "    .colab-df-container {\n",
              "      display:flex;\n",
              "      gap: 12px;\n",
              "    }\n",
              "\n",
              "    .colab-df-convert {\n",
              "      background-color: #E8F0FE;\n",
              "      border: none;\n",
              "      border-radius: 50%;\n",
              "      cursor: pointer;\n",
              "      display: none;\n",
              "      fill: #1967D2;\n",
              "      height: 32px;\n",
              "      padding: 0 0 0 0;\n",
              "      width: 32px;\n",
              "    }\n",
              "\n",
              "    .colab-df-convert:hover {\n",
              "      background-color: #E2EBFA;\n",
              "      box-shadow: 0px 1px 2px rgba(60, 64, 67, 0.3), 0px 1px 3px 1px rgba(60, 64, 67, 0.15);\n",
              "      fill: #174EA6;\n",
              "    }\n",
              "\n",
              "    .colab-df-buttons div {\n",
              "      margin-bottom: 4px;\n",
              "    }\n",
              "\n",
              "    [theme=dark] .colab-df-convert {\n",
              "      background-color: #3B4455;\n",
              "      fill: #D2E3FC;\n",
              "    }\n",
              "\n",
              "    [theme=dark] .colab-df-convert:hover {\n",
              "      background-color: #434B5C;\n",
              "      box-shadow: 0px 1px 3px 1px rgba(0, 0, 0, 0.15);\n",
              "      filter: drop-shadow(0px 1px 2px rgba(0, 0, 0, 0.3));\n",
              "      fill: #FFFFFF;\n",
              "    }\n",
              "  </style>\n",
              "\n",
              "    <script>\n",
              "      const buttonEl =\n",
              "        document.querySelector('#df-6fc67312-9b93-4102-9f19-fa40d7e5bc66 button.colab-df-convert');\n",
              "      buttonEl.style.display =\n",
              "        google.colab.kernel.accessAllowed ? 'block' : 'none';\n",
              "\n",
              "      async function convertToInteractive(key) {\n",
              "        const element = document.querySelector('#df-6fc67312-9b93-4102-9f19-fa40d7e5bc66');\n",
              "        const dataTable =\n",
              "          await google.colab.kernel.invokeFunction('convertToInteractive',\n",
              "                                                    [key], {});\n",
              "        if (!dataTable) return;\n",
              "\n",
              "        const docLinkHtml = 'Like what you see? Visit the ' +\n",
              "          '<a target=\"_blank\" href=https://colab.research.google.com/notebooks/data_table.ipynb>data table notebook</a>'\n",
              "          + ' to learn more about interactive tables.';\n",
              "        element.innerHTML = '';\n",
              "        dataTable['output_type'] = 'display_data';\n",
              "        await google.colab.output.renderOutput(dataTable, element);\n",
              "        const docLink = document.createElement('div');\n",
              "        docLink.innerHTML = docLinkHtml;\n",
              "        element.appendChild(docLink);\n",
              "      }\n",
              "    </script>\n",
              "  </div>\n",
              "\n",
              "\n",
              "<div id=\"df-3fe36d75-e5ad-4bf6-bf98-270be21ded79\">\n",
              "  <button class=\"colab-df-quickchart\" onclick=\"quickchart('df-3fe36d75-e5ad-4bf6-bf98-270be21ded79')\"\n",
              "            title=\"Suggest charts\"\n",
              "            style=\"display:none;\">\n",
              "\n",
              "<svg xmlns=\"http://www.w3.org/2000/svg\" height=\"24px\"viewBox=\"0 0 24 24\"\n",
              "     width=\"24px\">\n",
              "    <g>\n",
              "        <path d=\"M19 3H5c-1.1 0-2 .9-2 2v14c0 1.1.9 2 2 2h14c1.1 0 2-.9 2-2V5c0-1.1-.9-2-2-2zM9 17H7v-7h2v7zm4 0h-2V7h2v10zm4 0h-2v-4h2v4z\"/>\n",
              "    </g>\n",
              "</svg>\n",
              "  </button>\n",
              "\n",
              "<style>\n",
              "  .colab-df-quickchart {\n",
              "      --bg-color: #E8F0FE;\n",
              "      --fill-color: #1967D2;\n",
              "      --hover-bg-color: #E2EBFA;\n",
              "      --hover-fill-color: #174EA6;\n",
              "      --disabled-fill-color: #AAA;\n",
              "      --disabled-bg-color: #DDD;\n",
              "  }\n",
              "\n",
              "  [theme=dark] .colab-df-quickchart {\n",
              "      --bg-color: #3B4455;\n",
              "      --fill-color: #D2E3FC;\n",
              "      --hover-bg-color: #434B5C;\n",
              "      --hover-fill-color: #FFFFFF;\n",
              "      --disabled-bg-color: #3B4455;\n",
              "      --disabled-fill-color: #666;\n",
              "  }\n",
              "\n",
              "  .colab-df-quickchart {\n",
              "    background-color: var(--bg-color);\n",
              "    border: none;\n",
              "    border-radius: 50%;\n",
              "    cursor: pointer;\n",
              "    display: none;\n",
              "    fill: var(--fill-color);\n",
              "    height: 32px;\n",
              "    padding: 0;\n",
              "    width: 32px;\n",
              "  }\n",
              "\n",
              "  .colab-df-quickchart:hover {\n",
              "    background-color: var(--hover-bg-color);\n",
              "    box-shadow: 0 1px 2px rgba(60, 64, 67, 0.3), 0 1px 3px 1px rgba(60, 64, 67, 0.15);\n",
              "    fill: var(--button-hover-fill-color);\n",
              "  }\n",
              "\n",
              "  .colab-df-quickchart-complete:disabled,\n",
              "  .colab-df-quickchart-complete:disabled:hover {\n",
              "    background-color: var(--disabled-bg-color);\n",
              "    fill: var(--disabled-fill-color);\n",
              "    box-shadow: none;\n",
              "  }\n",
              "\n",
              "  .colab-df-spinner {\n",
              "    border: 2px solid var(--fill-color);\n",
              "    border-color: transparent;\n",
              "    border-bottom-color: var(--fill-color);\n",
              "    animation:\n",
              "      spin 1s steps(1) infinite;\n",
              "  }\n",
              "\n",
              "  @keyframes spin {\n",
              "    0% {\n",
              "      border-color: transparent;\n",
              "      border-bottom-color: var(--fill-color);\n",
              "      border-left-color: var(--fill-color);\n",
              "    }\n",
              "    20% {\n",
              "      border-color: transparent;\n",
              "      border-left-color: var(--fill-color);\n",
              "      border-top-color: var(--fill-color);\n",
              "    }\n",
              "    30% {\n",
              "      border-color: transparent;\n",
              "      border-left-color: var(--fill-color);\n",
              "      border-top-color: var(--fill-color);\n",
              "      border-right-color: var(--fill-color);\n",
              "    }\n",
              "    40% {\n",
              "      border-color: transparent;\n",
              "      border-right-color: var(--fill-color);\n",
              "      border-top-color: var(--fill-color);\n",
              "    }\n",
              "    60% {\n",
              "      border-color: transparent;\n",
              "      border-right-color: var(--fill-color);\n",
              "    }\n",
              "    80% {\n",
              "      border-color: transparent;\n",
              "      border-right-color: var(--fill-color);\n",
              "      border-bottom-color: var(--fill-color);\n",
              "    }\n",
              "    90% {\n",
              "      border-color: transparent;\n",
              "      border-bottom-color: var(--fill-color);\n",
              "    }\n",
              "  }\n",
              "</style>\n",
              "\n",
              "  <script>\n",
              "    async function quickchart(key) {\n",
              "      const quickchartButtonEl =\n",
              "        document.querySelector('#' + key + ' button');\n",
              "      quickchartButtonEl.disabled = true;  // To prevent multiple clicks.\n",
              "      quickchartButtonEl.classList.add('colab-df-spinner');\n",
              "      try {\n",
              "        const charts = await google.colab.kernel.invokeFunction(\n",
              "            'suggestCharts', [key], {});\n",
              "      } catch (error) {\n",
              "        console.error('Error during call to suggestCharts:', error);\n",
              "      }\n",
              "      quickchartButtonEl.classList.remove('colab-df-spinner');\n",
              "      quickchartButtonEl.classList.add('colab-df-quickchart-complete');\n",
              "    }\n",
              "    (() => {\n",
              "      let quickchartButtonEl =\n",
              "        document.querySelector('#df-3fe36d75-e5ad-4bf6-bf98-270be21ded79 button');\n",
              "      quickchartButtonEl.style.display =\n",
              "        google.colab.kernel.accessAllowed ? 'block' : 'none';\n",
              "    })();\n",
              "  </script>\n",
              "</div>\n",
              "\n",
              "  <div id=\"id_7f45515c-ccca-4cc8-afa8-9c3c09bd09f5\">\n",
              "    <style>\n",
              "      .colab-df-generate {\n",
              "        background-color: #E8F0FE;\n",
              "        border: none;\n",
              "        border-radius: 50%;\n",
              "        cursor: pointer;\n",
              "        display: none;\n",
              "        fill: #1967D2;\n",
              "        height: 32px;\n",
              "        padding: 0 0 0 0;\n",
              "        width: 32px;\n",
              "      }\n",
              "\n",
              "      .colab-df-generate:hover {\n",
              "        background-color: #E2EBFA;\n",
              "        box-shadow: 0px 1px 2px rgba(60, 64, 67, 0.3), 0px 1px 3px 1px rgba(60, 64, 67, 0.15);\n",
              "        fill: #174EA6;\n",
              "      }\n",
              "\n",
              "      [theme=dark] .colab-df-generate {\n",
              "        background-color: #3B4455;\n",
              "        fill: #D2E3FC;\n",
              "      }\n",
              "\n",
              "      [theme=dark] .colab-df-generate:hover {\n",
              "        background-color: #434B5C;\n",
              "        box-shadow: 0px 1px 3px 1px rgba(0, 0, 0, 0.15);\n",
              "        filter: drop-shadow(0px 1px 2px rgba(0, 0, 0, 0.3));\n",
              "        fill: #FFFFFF;\n",
              "      }\n",
              "    </style>\n",
              "    <button class=\"colab-df-generate\" onclick=\"generateWithVariable('reviews_df')\"\n",
              "            title=\"Generate code using this dataframe.\"\n",
              "            style=\"display:none;\">\n",
              "\n",
              "  <svg xmlns=\"http://www.w3.org/2000/svg\" height=\"24px\"viewBox=\"0 0 24 24\"\n",
              "       width=\"24px\">\n",
              "    <path d=\"M7,19H8.4L18.45,9,17,7.55,7,17.6ZM5,21V16.75L18.45,3.32a2,2,0,0,1,2.83,0l1.4,1.43a1.91,1.91,0,0,1,.58,1.4,1.91,1.91,0,0,1-.58,1.4L9.25,21ZM18.45,9,17,7.55Zm-12,3A5.31,5.31,0,0,0,4.9,8.1,5.31,5.31,0,0,0,1,6.5,5.31,5.31,0,0,0,4.9,4.9,5.31,5.31,0,0,0,6.5,1,5.31,5.31,0,0,0,8.1,4.9,5.31,5.31,0,0,0,12,6.5,5.46,5.46,0,0,0,6.5,12Z\"/>\n",
              "  </svg>\n",
              "    </button>\n",
              "    <script>\n",
              "      (() => {\n",
              "      const buttonEl =\n",
              "        document.querySelector('#id_7f45515c-ccca-4cc8-afa8-9c3c09bd09f5 button.colab-df-generate');\n",
              "      buttonEl.style.display =\n",
              "        google.colab.kernel.accessAllowed ? 'block' : 'none';\n",
              "\n",
              "      buttonEl.onclick = () => {\n",
              "        google.colab.notebook.generateWithVariable('reviews_df');\n",
              "      }\n",
              "      })();\n",
              "    </script>\n",
              "  </div>\n",
              "\n",
              "    </div>\n",
              "  </div>\n"
            ],
            "application/vnd.google.colaboratory.intrinsic+json": {
              "type": "dataframe",
              "variable_name": "reviews_df",
              "summary": "{\n  \"name\": \"reviews_df\",\n  \"rows\": 9246,\n  \"fields\": [\n    {\n      \"column\": \"ReviewID\",\n      \"properties\": {\n        \"dtype\": \"number\",\n        \"std\": 0,\n        \"min\": 1,\n        \"max\": 1,\n        \"num_unique_values\": 1,\n        \"samples\": [\n          1\n        ],\n        \"semantic_type\": \"\",\n        \"description\": \"\"\n      }\n    },\n    {\n      \"column\": \"ReviewScore\",\n      \"properties\": {\n        \"dtype\": \"number\",\n        \"std\": 1,\n        \"min\": 1,\n        \"max\": 5,\n        \"num_unique_values\": 5,\n        \"samples\": [\n          5\n        ],\n        \"semantic_type\": \"\",\n        \"description\": \"\"\n      }\n    },\n    {\n      \"column\": \"ReviewText\",\n      \"properties\": {\n        \"dtype\": \"string\",\n        \"num_unique_values\": 5890,\n        \"samples\": [\n          \"pleased with a to fragrance. it's a solid choice if you're not looking for anything extraordinary.\"\n        ],\n        \"semantic_type\": \"\",\n        \"description\": \"\"\n      }\n    },\n    {\n      \"column\": \"OrderID\",\n      \"properties\": {\n        \"dtype\": \"number\",\n        \"std\": 272424,\n        \"min\": 21,\n        \"max\": 942190,\n        \"num_unique_values\": 9246,\n        \"samples\": [\n          414255\n        ],\n        \"semantic_type\": \"\",\n        \"description\": \"\"\n      }\n    }\n  ]\n}"
            }
          },
          "metadata": {},
          "execution_count": 22
        }
      ],
      "source": [
        "\n",
        "reviews_df = reviews_df.dropna()\n",
        "reviews_df = reviews_df.drop_duplicates()\n",
        "reviews_df = reviews_df.reset_index(drop=True)\n",
        "reviews_df"
      ]
    },
    {
      "cell_type": "markdown",
      "metadata": {
        "id": "qgiSxMRSLq5x"
      },
      "source": [
        "2 / Utilisez la librairie de votre choix pour créer un graphique montrant la répartition des **ReviewScore**."
      ]
    },
    {
      "cell_type": "code",
      "execution_count": 23,
      "metadata": {
        "colab": {
          "base_uri": "https://localhost:8080/",
          "height": 423
        },
        "id": "2PrRRaUmLoc5",
        "outputId": "f0bae557-4b11-4480-aae4-9393d0952a1c"
      },
      "outputs": [
        {
          "output_type": "execute_result",
          "data": {
            "text/plain": [
              "      ReviewID  ReviewScore  \\\n",
              "0            1            4   \n",
              "1            1            5   \n",
              "2            1            4   \n",
              "3            1            4   \n",
              "4            1            4   \n",
              "...        ...          ...   \n",
              "9241         1            3   \n",
              "9242         1            2   \n",
              "9243         1            4   \n",
              "9244         1            5   \n",
              "9245         1            3   \n",
              "\n",
              "                                             ReviewText  OrderID  \n",
              "0     Product came As expected, timely and well-pack...   814344  \n",
              "1     Indoor Sweet-scented Or Creating Perfect outdo...   501052  \n",
              "2     Efficient delivery, item matches the online de...   824173  \n",
              "3                ITEM ARRIVED ON TIME AND AS DESCRIBED.     8078  \n",
              "4     Satisfactory experience, would recommend to ot...   376448  \n",
              "...                                                 ...      ...  \n",
              "9241  pleased with bringing of vibrant perfect color...   131688  \n",
              "9242  I WAS REALLY DISAPPOINTED WITH YEARS, THE BONS...    96102  \n",
              "9243  Enjoyed desert touch mix home offering cacti,....    79174  \n",
              "9244  Thrilled with the purchase, far exceeds expect...   735579  \n",
              "9245  ENJOYED MEDICINAL VERA EASY BENEFITS AND FOR. ...   508735  \n",
              "\n",
              "[9246 rows x 4 columns]"
            ],
            "text/html": [
              "\n",
              "  <div id=\"df-fefac194-c9e6-47bc-beab-696e2b3a28d7\" class=\"colab-df-container\">\n",
              "    <div>\n",
              "<style scoped>\n",
              "    .dataframe tbody tr th:only-of-type {\n",
              "        vertical-align: middle;\n",
              "    }\n",
              "\n",
              "    .dataframe tbody tr th {\n",
              "        vertical-align: top;\n",
              "    }\n",
              "\n",
              "    .dataframe thead th {\n",
              "        text-align: right;\n",
              "    }\n",
              "</style>\n",
              "<table border=\"1\" class=\"dataframe\">\n",
              "  <thead>\n",
              "    <tr style=\"text-align: right;\">\n",
              "      <th></th>\n",
              "      <th>ReviewID</th>\n",
              "      <th>ReviewScore</th>\n",
              "      <th>ReviewText</th>\n",
              "      <th>OrderID</th>\n",
              "    </tr>\n",
              "  </thead>\n",
              "  <tbody>\n",
              "    <tr>\n",
              "      <th>0</th>\n",
              "      <td>1</td>\n",
              "      <td>4</td>\n",
              "      <td>Product came As expected, timely and well-pack...</td>\n",
              "      <td>814344</td>\n",
              "    </tr>\n",
              "    <tr>\n",
              "      <th>1</th>\n",
              "      <td>1</td>\n",
              "      <td>5</td>\n",
              "      <td>Indoor Sweet-scented Or Creating Perfect outdo...</td>\n",
              "      <td>501052</td>\n",
              "    </tr>\n",
              "    <tr>\n",
              "      <th>2</th>\n",
              "      <td>1</td>\n",
              "      <td>4</td>\n",
              "      <td>Efficient delivery, item matches the online de...</td>\n",
              "      <td>824173</td>\n",
              "    </tr>\n",
              "    <tr>\n",
              "      <th>3</th>\n",
              "      <td>1</td>\n",
              "      <td>4</td>\n",
              "      <td>ITEM ARRIVED ON TIME AND AS DESCRIBED.</td>\n",
              "      <td>8078</td>\n",
              "    </tr>\n",
              "    <tr>\n",
              "      <th>4</th>\n",
              "      <td>1</td>\n",
              "      <td>4</td>\n",
              "      <td>Satisfactory experience, would recommend to ot...</td>\n",
              "      <td>376448</td>\n",
              "    </tr>\n",
              "    <tr>\n",
              "      <th>...</th>\n",
              "      <td>...</td>\n",
              "      <td>...</td>\n",
              "      <td>...</td>\n",
              "      <td>...</td>\n",
              "    </tr>\n",
              "    <tr>\n",
              "      <th>9241</th>\n",
              "      <td>1</td>\n",
              "      <td>3</td>\n",
              "      <td>pleased with bringing of vibrant perfect color...</td>\n",
              "      <td>131688</td>\n",
              "    </tr>\n",
              "    <tr>\n",
              "      <th>9242</th>\n",
              "      <td>1</td>\n",
              "      <td>2</td>\n",
              "      <td>I WAS REALLY DISAPPOINTED WITH YEARS, THE BONS...</td>\n",
              "      <td>96102</td>\n",
              "    </tr>\n",
              "    <tr>\n",
              "      <th>9243</th>\n",
              "      <td>1</td>\n",
              "      <td>4</td>\n",
              "      <td>Enjoyed desert touch mix home offering cacti,....</td>\n",
              "      <td>79174</td>\n",
              "    </tr>\n",
              "    <tr>\n",
              "      <th>9244</th>\n",
              "      <td>1</td>\n",
              "      <td>5</td>\n",
              "      <td>Thrilled with the purchase, far exceeds expect...</td>\n",
              "      <td>735579</td>\n",
              "    </tr>\n",
              "    <tr>\n",
              "      <th>9245</th>\n",
              "      <td>1</td>\n",
              "      <td>3</td>\n",
              "      <td>ENJOYED MEDICINAL VERA EASY BENEFITS AND FOR. ...</td>\n",
              "      <td>508735</td>\n",
              "    </tr>\n",
              "  </tbody>\n",
              "</table>\n",
              "<p>9246 rows × 4 columns</p>\n",
              "</div>\n",
              "    <div class=\"colab-df-buttons\">\n",
              "\n",
              "  <div class=\"colab-df-container\">\n",
              "    <button class=\"colab-df-convert\" onclick=\"convertToInteractive('df-fefac194-c9e6-47bc-beab-696e2b3a28d7')\"\n",
              "            title=\"Convert this dataframe to an interactive table.\"\n",
              "            style=\"display:none;\">\n",
              "\n",
              "  <svg xmlns=\"http://www.w3.org/2000/svg\" height=\"24px\" viewBox=\"0 -960 960 960\">\n",
              "    <path d=\"M120-120v-720h720v720H120Zm60-500h600v-160H180v160Zm220 220h160v-160H400v160Zm0 220h160v-160H400v160ZM180-400h160v-160H180v160Zm440 0h160v-160H620v160ZM180-180h160v-160H180v160Zm440 0h160v-160H620v160Z\"/>\n",
              "  </svg>\n",
              "    </button>\n",
              "\n",
              "  <style>\n",
              "    .colab-df-container {\n",
              "      display:flex;\n",
              "      gap: 12px;\n",
              "    }\n",
              "\n",
              "    .colab-df-convert {\n",
              "      background-color: #E8F0FE;\n",
              "      border: none;\n",
              "      border-radius: 50%;\n",
              "      cursor: pointer;\n",
              "      display: none;\n",
              "      fill: #1967D2;\n",
              "      height: 32px;\n",
              "      padding: 0 0 0 0;\n",
              "      width: 32px;\n",
              "    }\n",
              "\n",
              "    .colab-df-convert:hover {\n",
              "      background-color: #E2EBFA;\n",
              "      box-shadow: 0px 1px 2px rgba(60, 64, 67, 0.3), 0px 1px 3px 1px rgba(60, 64, 67, 0.15);\n",
              "      fill: #174EA6;\n",
              "    }\n",
              "\n",
              "    .colab-df-buttons div {\n",
              "      margin-bottom: 4px;\n",
              "    }\n",
              "\n",
              "    [theme=dark] .colab-df-convert {\n",
              "      background-color: #3B4455;\n",
              "      fill: #D2E3FC;\n",
              "    }\n",
              "\n",
              "    [theme=dark] .colab-df-convert:hover {\n",
              "      background-color: #434B5C;\n",
              "      box-shadow: 0px 1px 3px 1px rgba(0, 0, 0, 0.15);\n",
              "      filter: drop-shadow(0px 1px 2px rgba(0, 0, 0, 0.3));\n",
              "      fill: #FFFFFF;\n",
              "    }\n",
              "  </style>\n",
              "\n",
              "    <script>\n",
              "      const buttonEl =\n",
              "        document.querySelector('#df-fefac194-c9e6-47bc-beab-696e2b3a28d7 button.colab-df-convert');\n",
              "      buttonEl.style.display =\n",
              "        google.colab.kernel.accessAllowed ? 'block' : 'none';\n",
              "\n",
              "      async function convertToInteractive(key) {\n",
              "        const element = document.querySelector('#df-fefac194-c9e6-47bc-beab-696e2b3a28d7');\n",
              "        const dataTable =\n",
              "          await google.colab.kernel.invokeFunction('convertToInteractive',\n",
              "                                                    [key], {});\n",
              "        if (!dataTable) return;\n",
              "\n",
              "        const docLinkHtml = 'Like what you see? Visit the ' +\n",
              "          '<a target=\"_blank\" href=https://colab.research.google.com/notebooks/data_table.ipynb>data table notebook</a>'\n",
              "          + ' to learn more about interactive tables.';\n",
              "        element.innerHTML = '';\n",
              "        dataTable['output_type'] = 'display_data';\n",
              "        await google.colab.output.renderOutput(dataTable, element);\n",
              "        const docLink = document.createElement('div');\n",
              "        docLink.innerHTML = docLinkHtml;\n",
              "        element.appendChild(docLink);\n",
              "      }\n",
              "    </script>\n",
              "  </div>\n",
              "\n",
              "\n",
              "<div id=\"df-b0cdc461-5b3f-4f82-af0b-fa56560518af\">\n",
              "  <button class=\"colab-df-quickchart\" onclick=\"quickchart('df-b0cdc461-5b3f-4f82-af0b-fa56560518af')\"\n",
              "            title=\"Suggest charts\"\n",
              "            style=\"display:none;\">\n",
              "\n",
              "<svg xmlns=\"http://www.w3.org/2000/svg\" height=\"24px\"viewBox=\"0 0 24 24\"\n",
              "     width=\"24px\">\n",
              "    <g>\n",
              "        <path d=\"M19 3H5c-1.1 0-2 .9-2 2v14c0 1.1.9 2 2 2h14c1.1 0 2-.9 2-2V5c0-1.1-.9-2-2-2zM9 17H7v-7h2v7zm4 0h-2V7h2v10zm4 0h-2v-4h2v4z\"/>\n",
              "    </g>\n",
              "</svg>\n",
              "  </button>\n",
              "\n",
              "<style>\n",
              "  .colab-df-quickchart {\n",
              "      --bg-color: #E8F0FE;\n",
              "      --fill-color: #1967D2;\n",
              "      --hover-bg-color: #E2EBFA;\n",
              "      --hover-fill-color: #174EA6;\n",
              "      --disabled-fill-color: #AAA;\n",
              "      --disabled-bg-color: #DDD;\n",
              "  }\n",
              "\n",
              "  [theme=dark] .colab-df-quickchart {\n",
              "      --bg-color: #3B4455;\n",
              "      --fill-color: #D2E3FC;\n",
              "      --hover-bg-color: #434B5C;\n",
              "      --hover-fill-color: #FFFFFF;\n",
              "      --disabled-bg-color: #3B4455;\n",
              "      --disabled-fill-color: #666;\n",
              "  }\n",
              "\n",
              "  .colab-df-quickchart {\n",
              "    background-color: var(--bg-color);\n",
              "    border: none;\n",
              "    border-radius: 50%;\n",
              "    cursor: pointer;\n",
              "    display: none;\n",
              "    fill: var(--fill-color);\n",
              "    height: 32px;\n",
              "    padding: 0;\n",
              "    width: 32px;\n",
              "  }\n",
              "\n",
              "  .colab-df-quickchart:hover {\n",
              "    background-color: var(--hover-bg-color);\n",
              "    box-shadow: 0 1px 2px rgba(60, 64, 67, 0.3), 0 1px 3px 1px rgba(60, 64, 67, 0.15);\n",
              "    fill: var(--button-hover-fill-color);\n",
              "  }\n",
              "\n",
              "  .colab-df-quickchart-complete:disabled,\n",
              "  .colab-df-quickchart-complete:disabled:hover {\n",
              "    background-color: var(--disabled-bg-color);\n",
              "    fill: var(--disabled-fill-color);\n",
              "    box-shadow: none;\n",
              "  }\n",
              "\n",
              "  .colab-df-spinner {\n",
              "    border: 2px solid var(--fill-color);\n",
              "    border-color: transparent;\n",
              "    border-bottom-color: var(--fill-color);\n",
              "    animation:\n",
              "      spin 1s steps(1) infinite;\n",
              "  }\n",
              "\n",
              "  @keyframes spin {\n",
              "    0% {\n",
              "      border-color: transparent;\n",
              "      border-bottom-color: var(--fill-color);\n",
              "      border-left-color: var(--fill-color);\n",
              "    }\n",
              "    20% {\n",
              "      border-color: transparent;\n",
              "      border-left-color: var(--fill-color);\n",
              "      border-top-color: var(--fill-color);\n",
              "    }\n",
              "    30% {\n",
              "      border-color: transparent;\n",
              "      border-left-color: var(--fill-color);\n",
              "      border-top-color: var(--fill-color);\n",
              "      border-right-color: var(--fill-color);\n",
              "    }\n",
              "    40% {\n",
              "      border-color: transparent;\n",
              "      border-right-color: var(--fill-color);\n",
              "      border-top-color: var(--fill-color);\n",
              "    }\n",
              "    60% {\n",
              "      border-color: transparent;\n",
              "      border-right-color: var(--fill-color);\n",
              "    }\n",
              "    80% {\n",
              "      border-color: transparent;\n",
              "      border-right-color: var(--fill-color);\n",
              "      border-bottom-color: var(--fill-color);\n",
              "    }\n",
              "    90% {\n",
              "      border-color: transparent;\n",
              "      border-bottom-color: var(--fill-color);\n",
              "    }\n",
              "  }\n",
              "</style>\n",
              "\n",
              "  <script>\n",
              "    async function quickchart(key) {\n",
              "      const quickchartButtonEl =\n",
              "        document.querySelector('#' + key + ' button');\n",
              "      quickchartButtonEl.disabled = true;  // To prevent multiple clicks.\n",
              "      quickchartButtonEl.classList.add('colab-df-spinner');\n",
              "      try {\n",
              "        const charts = await google.colab.kernel.invokeFunction(\n",
              "            'suggestCharts', [key], {});\n",
              "      } catch (error) {\n",
              "        console.error('Error during call to suggestCharts:', error);\n",
              "      }\n",
              "      quickchartButtonEl.classList.remove('colab-df-spinner');\n",
              "      quickchartButtonEl.classList.add('colab-df-quickchart-complete');\n",
              "    }\n",
              "    (() => {\n",
              "      let quickchartButtonEl =\n",
              "        document.querySelector('#df-b0cdc461-5b3f-4f82-af0b-fa56560518af button');\n",
              "      quickchartButtonEl.style.display =\n",
              "        google.colab.kernel.accessAllowed ? 'block' : 'none';\n",
              "    })();\n",
              "  </script>\n",
              "</div>\n",
              "\n",
              "  <div id=\"id_ce8515d8-b885-488e-b1c0-836f51371089\">\n",
              "    <style>\n",
              "      .colab-df-generate {\n",
              "        background-color: #E8F0FE;\n",
              "        border: none;\n",
              "        border-radius: 50%;\n",
              "        cursor: pointer;\n",
              "        display: none;\n",
              "        fill: #1967D2;\n",
              "        height: 32px;\n",
              "        padding: 0 0 0 0;\n",
              "        width: 32px;\n",
              "      }\n",
              "\n",
              "      .colab-df-generate:hover {\n",
              "        background-color: #E2EBFA;\n",
              "        box-shadow: 0px 1px 2px rgba(60, 64, 67, 0.3), 0px 1px 3px 1px rgba(60, 64, 67, 0.15);\n",
              "        fill: #174EA6;\n",
              "      }\n",
              "\n",
              "      [theme=dark] .colab-df-generate {\n",
              "        background-color: #3B4455;\n",
              "        fill: #D2E3FC;\n",
              "      }\n",
              "\n",
              "      [theme=dark] .colab-df-generate:hover {\n",
              "        background-color: #434B5C;\n",
              "        box-shadow: 0px 1px 3px 1px rgba(0, 0, 0, 0.15);\n",
              "        filter: drop-shadow(0px 1px 2px rgba(0, 0, 0, 0.3));\n",
              "        fill: #FFFFFF;\n",
              "      }\n",
              "    </style>\n",
              "    <button class=\"colab-df-generate\" onclick=\"generateWithVariable('reviews_df')\"\n",
              "            title=\"Generate code using this dataframe.\"\n",
              "            style=\"display:none;\">\n",
              "\n",
              "  <svg xmlns=\"http://www.w3.org/2000/svg\" height=\"24px\"viewBox=\"0 0 24 24\"\n",
              "       width=\"24px\">\n",
              "    <path d=\"M7,19H8.4L18.45,9,17,7.55,7,17.6ZM5,21V16.75L18.45,3.32a2,2,0,0,1,2.83,0l1.4,1.43a1.91,1.91,0,0,1,.58,1.4,1.91,1.91,0,0,1-.58,1.4L9.25,21ZM18.45,9,17,7.55Zm-12,3A5.31,5.31,0,0,0,4.9,8.1,5.31,5.31,0,0,0,1,6.5,5.31,5.31,0,0,0,4.9,4.9,5.31,5.31,0,0,0,6.5,1,5.31,5.31,0,0,0,8.1,4.9,5.31,5.31,0,0,0,12,6.5,5.46,5.46,0,0,0,6.5,12Z\"/>\n",
              "  </svg>\n",
              "    </button>\n",
              "    <script>\n",
              "      (() => {\n",
              "      const buttonEl =\n",
              "        document.querySelector('#id_ce8515d8-b885-488e-b1c0-836f51371089 button.colab-df-generate');\n",
              "      buttonEl.style.display =\n",
              "        google.colab.kernel.accessAllowed ? 'block' : 'none';\n",
              "\n",
              "      buttonEl.onclick = () => {\n",
              "        google.colab.notebook.generateWithVariable('reviews_df');\n",
              "      }\n",
              "      })();\n",
              "    </script>\n",
              "  </div>\n",
              "\n",
              "    </div>\n",
              "  </div>\n"
            ],
            "application/vnd.google.colaboratory.intrinsic+json": {
              "type": "dataframe",
              "variable_name": "reviews_df",
              "summary": "{\n  \"name\": \"reviews_df\",\n  \"rows\": 9246,\n  \"fields\": [\n    {\n      \"column\": \"ReviewID\",\n      \"properties\": {\n        \"dtype\": \"number\",\n        \"std\": 0,\n        \"min\": 1,\n        \"max\": 1,\n        \"num_unique_values\": 1,\n        \"samples\": [\n          1\n        ],\n        \"semantic_type\": \"\",\n        \"description\": \"\"\n      }\n    },\n    {\n      \"column\": \"ReviewScore\",\n      \"properties\": {\n        \"dtype\": \"number\",\n        \"std\": 1,\n        \"min\": 1,\n        \"max\": 5,\n        \"num_unique_values\": 5,\n        \"samples\": [\n          5\n        ],\n        \"semantic_type\": \"\",\n        \"description\": \"\"\n      }\n    },\n    {\n      \"column\": \"ReviewText\",\n      \"properties\": {\n        \"dtype\": \"string\",\n        \"num_unique_values\": 5890,\n        \"samples\": [\n          \"pleased with a to fragrance. it's a solid choice if you're not looking for anything extraordinary.\"\n        ],\n        \"semantic_type\": \"\",\n        \"description\": \"\"\n      }\n    },\n    {\n      \"column\": \"OrderID\",\n      \"properties\": {\n        \"dtype\": \"number\",\n        \"std\": 272424,\n        \"min\": 21,\n        \"max\": 942190,\n        \"num_unique_values\": 9246,\n        \"samples\": [\n          414255\n        ],\n        \"semantic_type\": \"\",\n        \"description\": \"\"\n      }\n    }\n  ]\n}"
            }
          },
          "metadata": {},
          "execution_count": 23
        }
      ],
      "source": [
        "reviews_df"
      ]
    },
    {
      "cell_type": "code",
      "execution_count": 54,
      "metadata": {
        "colab": {
          "base_uri": "https://localhost:8080/",
          "height": 472
        },
        "id": "MC4wg8LfGQ80",
        "outputId": "d4016a53-b224-4d43-a6e8-bc563091b39a"
      },
      "outputs": [
        {
          "output_type": "display_data",
          "data": {
            "text/plain": [
              "<Figure size 640x480 with 1 Axes>"
            ],
            "image/png": "[encoded data removed]"
          },
          "metadata": {}
        }
      ],
      "source": [
        "# prompt: Using dataframe reviews_df: histogram\n",
        "\n",
        "import matplotlib.pyplot as plt\n",
        "ratings =[1,2,3,4,5]\n",
        "frequencies = reviews_df['ReviewScore'].value_counts().sort_values()\n",
        "plt.bar(ratings,frequencies)\n",
        "plt.xlabel('Review Score')\n",
        "plt.ylabel('Frequency')\n",
        "plt.title('Distribution of Review Scores')\n",
        "plt.show() # Display the histogram\n"
      ]
    },
    {
      "cell_type": "markdown",
      "metadata": {
        "id": "8Th9Ba6ZLQG5"
      },
      "source": [
        "# Préparation de la donnée"
      ]
    },
    {
      "cell_type": "markdown",
      "metadata": {
        "id": "7goJVWvbMlqf"
      },
      "source": [
        "3 / Créez votre feature X comprenant la colonne **ReviewText** et votre y comprenant la colonne **ReviewScore**."
      ]
    },
    {
      "cell_type": "code",
      "execution_count": 25,
      "metadata": {
        "id": "B9uGbTEzMkCZ"
      },
      "outputs": [],
      "source": [
        "X=reviews_df['ReviewText']\n",
        "y=reviews_df['ReviewScore']"
      ]
    },
    {
      "cell_type": "code",
      "execution_count": 26,
      "metadata": {
        "id": "0JaE_mXOGww_",
        "colab": {
          "base_uri": "https://localhost:8080/",
          "height": 423
        },
        "outputId": "47f81615-b8af-49da-b023-d88b9994dfac"
      },
      "outputs": [
        {
          "output_type": "execute_result",
          "data": {
            "text/plain": [
              "      ReviewID  ReviewScore  \\\n",
              "0            1            4   \n",
              "1            1            5   \n",
              "2            1            4   \n",
              "3            1            4   \n",
              "4            1            4   \n",
              "...        ...          ...   \n",
              "9241         1            3   \n",
              "9242         1            2   \n",
              "9243         1            4   \n",
              "9244         1            5   \n",
              "9245         1            3   \n",
              "\n",
              "                                             ReviewText  OrderID  \n",
              "0     Product came As expected, timely and well-pack...   814344  \n",
              "1     Indoor Sweet-scented Or Creating Perfect outdo...   501052  \n",
              "2     Efficient delivery, item matches the online de...   824173  \n",
              "3                ITEM ARRIVED ON TIME AND AS DESCRIBED.     8078  \n",
              "4     Satisfactory experience, would recommend to ot...   376448  \n",
              "...                                                 ...      ...  \n",
              "9241  pleased with bringing of vibrant perfect color...   131688  \n",
              "9242  I WAS REALLY DISAPPOINTED WITH YEARS, THE BONS...    96102  \n",
              "9243  Enjoyed desert touch mix home offering cacti,....    79174  \n",
              "9244  Thrilled with the purchase, far exceeds expect...   735579  \n",
              "9245  ENJOYED MEDICINAL VERA EASY BENEFITS AND FOR. ...   508735  \n",
              "\n",
              "[9246 rows x 4 columns]"
            ],
            "text/html": [
              "\n",
              "  <div id=\"df-1c12c88b-b6d3-4331-83af-5d33fafdf65c\" class=\"colab-df-container\">\n",
              "    <div>\n",
              "<style scoped>\n",
              "    .dataframe tbody tr th:only-of-type {\n",
              "        vertical-align: middle;\n",
              "    }\n",
              "\n",
              "    .dataframe tbody tr th {\n",
              "        vertical-align: top;\n",
              "    }\n",
              "\n",
              "    .dataframe thead th {\n",
              "        text-align: right;\n",
              "    }\n",
              "</style>\n",
              "<table border=\"1\" class=\"dataframe\">\n",
              "  <thead>\n",
              "    <tr style=\"text-align: right;\">\n",
              "      <th></th>\n",
              "      <th>ReviewID</th>\n",
              "      <th>ReviewScore</th>\n",
              "      <th>ReviewText</th>\n",
              "      <th>OrderID</th>\n",
              "    </tr>\n",
              "  </thead>\n",
              "  <tbody>\n",
              "    <tr>\n",
              "      <th>0</th>\n",
              "      <td>1</td>\n",
              "      <td>4</td>\n",
              "      <td>Product came As expected, timely and well-pack...</td>\n",
              "      <td>814344</td>\n",
              "    </tr>\n",
              "    <tr>\n",
              "      <th>1</th>\n",
              "      <td>1</td>\n",
              "      <td>5</td>\n",
              "      <td>Indoor Sweet-scented Or Creating Perfect outdo...</td>\n",
              "      <td>501052</td>\n",
              "    </tr>\n",
              "    <tr>\n",
              "      <th>2</th>\n",
              "      <td>1</td>\n",
              "      <td>4</td>\n",
              "      <td>Efficient delivery, item matches the online de...</td>\n",
              "      <td>824173</td>\n",
              "    </tr>\n",
              "    <tr>\n",
              "      <th>3</th>\n",
              "      <td>1</td>\n",
              "      <td>4</td>\n",
              "      <td>ITEM ARRIVED ON TIME AND AS DESCRIBED.</td>\n",
              "      <td>8078</td>\n",
              "    </tr>\n",
              "    <tr>\n",
              "      <th>4</th>\n",
              "      <td>1</td>\n",
              "      <td>4</td>\n",
              "      <td>Satisfactory experience, would recommend to ot...</td>\n",
              "      <td>376448</td>\n",
              "    </tr>\n",
              "    <tr>\n",
              "      <th>...</th>\n",
              "      <td>...</td>\n",
              "      <td>...</td>\n",
              "      <td>...</td>\n",
              "      <td>...</td>\n",
              "    </tr>\n",
              "    <tr>\n",
              "      <th>9241</th>\n",
              "      <td>1</td>\n",
              "      <td>3</td>\n",
              "      <td>pleased with bringing of vibrant perfect color...</td>\n",
              "      <td>131688</td>\n",
              "    </tr>\n",
              "    <tr>\n",
              "      <th>9242</th>\n",
              "      <td>1</td>\n",
              "      <td>2</td>\n",
              "      <td>I WAS REALLY DISAPPOINTED WITH YEARS, THE BONS...</td>\n",
              "      <td>96102</td>\n",
              "    </tr>\n",
              "    <tr>\n",
              "      <th>9243</th>\n",
              "      <td>1</td>\n",
              "      <td>4</td>\n",
              "      <td>Enjoyed desert touch mix home offering cacti,....</td>\n",
              "      <td>79174</td>\n",
              "    </tr>\n",
              "    <tr>\n",
              "      <th>9244</th>\n",
              "      <td>1</td>\n",
              "      <td>5</td>\n",
              "      <td>Thrilled with the purchase, far exceeds expect...</td>\n",
              "      <td>735579</td>\n",
              "    </tr>\n",
              "    <tr>\n",
              "      <th>9245</th>\n",
              "      <td>1</td>\n",
              "      <td>3</td>\n",
              "      <td>ENJOYED MEDICINAL VERA EASY BENEFITS AND FOR. ...</td>\n",
              "      <td>508735</td>\n",
              "    </tr>\n",
              "  </tbody>\n",
              "</table>\n",
              "<p>9246 rows × 4 columns</p>\n",
              "</div>\n",
              "    <div class=\"colab-df-buttons\">\n",
              "\n",
              "  <div class=\"colab-df-container\">\n",
              "    <button class=\"colab-df-convert\" onclick=\"convertToInteractive('df-1c12c88b-b6d3-4331-83af-5d33fafdf65c')\"\n",
              "            title=\"Convert this dataframe to an interactive table.\"\n",
              "            style=\"display:none;\">\n",
              "\n",
              "  <svg xmlns=\"http://www.w3.org/2000/svg\" height=\"24px\" viewBox=\"0 -960 960 960\">\n",
              "    <path d=\"M120-120v-720h720v720H120Zm60-500h600v-160H180v160Zm220 220h160v-160H400v160Zm0 220h160v-160H400v160ZM180-400h160v-160H180v160Zm440 0h160v-160H620v160ZM180-180h160v-160H180v160Zm440 0h160v-160H620v160Z\"/>\n",
              "  </svg>\n",
              "    </button>\n",
              "\n",
              "  <style>\n",
              "    .colab-df-container {\n",
              "      display:flex;\n",
              "      gap: 12px;\n",
              "    }\n",
              "\n",
              "    .colab-df-convert {\n",
              "      background-color: #E8F0FE;\n",
              "      border: none;\n",
              "      border-radius: 50%;\n",
              "      cursor: pointer;\n",
              "      display: none;\n",
              "      fill: #1967D2;\n",
              "      height: 32px;\n",
              "      padding: 0 0 0 0;\n",
              "      width: 32px;\n",
              "    }\n",
              "\n",
              "    .colab-df-convert:hover {\n",
              "      background-color: #E2EBFA;\n",
              "      box-shadow: 0px 1px 2px rgba(60, 64, 67, 0.3), 0px 1px 3px 1px rgba(60, 64, 67, 0.15);\n",
              "      fill: #174EA6;\n",
              "    }\n",
              "\n",
              "    .colab-df-buttons div {\n",
              "      margin-bottom: 4px;\n",
              "    }\n",
              "\n",
              "    [theme=dark] .colab-df-convert {\n",
              "      background-color: #3B4455;\n",
              "      fill: #D2E3FC;\n",
              "    }\n",
              "\n",
              "    [theme=dark] .colab-df-convert:hover {\n",
              "      background-color: #434B5C;\n",
              "      box-shadow: 0px 1px 3px 1px rgba(0, 0, 0, 0.15);\n",
              "      filter: drop-shadow(0px 1px 2px rgba(0, 0, 0, 0.3));\n",
              "      fill: #FFFFFF;\n",
              "    }\n",
              "  </style>\n",
              "\n",
              "    <script>\n",
              "      const buttonEl =\n",
              "        document.querySelector('#df-1c12c88b-b6d3-4331-83af-5d33fafdf65c button.colab-df-convert');\n",
              "      buttonEl.style.display =\n",
              "        google.colab.kernel.accessAllowed ? 'block' : 'none';\n",
              "\n",
              "      async function convertToInteractive(key) {\n",
              "        const element = document.querySelector('#df-1c12c88b-b6d3-4331-83af-5d33fafdf65c');\n",
              "        const dataTable =\n",
              "          await google.colab.kernel.invokeFunction('convertToInteractive',\n",
              "                                                    [key], {});\n",
              "        if (!dataTable) return;\n",
              "\n",
              "        const docLinkHtml = 'Like what you see? Visit the ' +\n",
              "          '<a target=\"_blank\" href=https://colab.research.google.com/notebooks/data_table.ipynb>data table notebook</a>'\n",
              "          + ' to learn more about interactive tables.';\n",
              "        element.innerHTML = '';\n",
              "        dataTable['output_type'] = 'display_data';\n",
              "        await google.colab.output.renderOutput(dataTable, element);\n",
              "        const docLink = document.createElement('div');\n",
              "        docLink.innerHTML = docLinkHtml;\n",
              "        element.appendChild(docLink);\n",
              "      }\n",
              "    </script>\n",
              "  </div>\n",
              "\n",
              "\n",
              "<div id=\"df-4cf189a0-3eb2-490a-b619-bfaeb7714d35\">\n",
              "  <button class=\"colab-df-quickchart\" onclick=\"quickchart('df-4cf189a0-3eb2-490a-b619-bfaeb7714d35')\"\n",
              "            title=\"Suggest charts\"\n",
              "            style=\"display:none;\">\n",
              "\n",
              "<svg xmlns=\"http://www.w3.org/2000/svg\" height=\"24px\"viewBox=\"0 0 24 24\"\n",
              "     width=\"24px\">\n",
              "    <g>\n",
              "        <path d=\"M19 3H5c-1.1 0-2 .9-2 2v14c0 1.1.9 2 2 2h14c1.1 0 2-.9 2-2V5c0-1.1-.9-2-2-2zM9 17H7v-7h2v7zm4 0h-2V7h2v10zm4 0h-2v-4h2v4z\"/>\n",
              "    </g>\n",
              "</svg>\n",
              "  </button>\n",
              "\n",
              "<style>\n",
              "  .colab-df-quickchart {\n",
              "      --bg-color: #E8F0FE;\n",
              "      --fill-color: #1967D2;\n",
              "      --hover-bg-color: #E2EBFA;\n",
              "      --hover-fill-color: #174EA6;\n",
              "      --disabled-fill-color: #AAA;\n",
              "      --disabled-bg-color: #DDD;\n",
              "  }\n",
              "\n",
              "  [theme=dark] .colab-df-quickchart {\n",
              "      --bg-color: #3B4455;\n",
              "      --fill-color: #D2E3FC;\n",
              "      --hover-bg-color: #434B5C;\n",
              "      --hover-fill-color: #FFFFFF;\n",
              "      --disabled-bg-color: #3B4455;\n",
              "      --disabled-fill-color: #666;\n",
              "  }\n",
              "\n",
              "  .colab-df-quickchart {\n",
              "    background-color: var(--bg-color);\n",
              "    border: none;\n",
              "    border-radius: 50%;\n",
              "    cursor: pointer;\n",
              "    display: none;\n",
              "    fill: var(--fill-color);\n",
              "    height: 32px;\n",
              "    padding: 0;\n",
              "    width: 32px;\n",
              "  }\n",
              "\n",
              "  .colab-df-quickchart:hover {\n",
              "    background-color: var(--hover-bg-color);\n",
              "    box-shadow: 0 1px 2px rgba(60, 64, 67, 0.3), 0 1px 3px 1px rgba(60, 64, 67, 0.15);\n",
              "    fill: var(--button-hover-fill-color);\n",
              "  }\n",
              "\n",
              "  .colab-df-quickchart-complete:disabled,\n",
              "  .colab-df-quickchart-complete:disabled:hover {\n",
              "    background-color: var(--disabled-bg-color);\n",
              "    fill: var(--disabled-fill-color);\n",
              "    box-shadow: none;\n",
              "  }\n",
              "\n",
              "  .colab-df-spinner {\n",
              "    border: 2px solid var(--fill-color);\n",
              "    border-color: transparent;\n",
              "    border-bottom-color: var(--fill-color);\n",
              "    animation:\n",
              "      spin 1s steps(1) infinite;\n",
              "  }\n",
              "\n",
              "  @keyframes spin {\n",
              "    0% {\n",
              "      border-color: transparent;\n",
              "      border-bottom-color: var(--fill-color);\n",
              "      border-left-color: var(--fill-color);\n",
              "    }\n",
              "    20% {\n",
              "      border-color: transparent;\n",
              "      border-left-color: var(--fill-color);\n",
              "      border-top-color: var(--fill-color);\n",
              "    }\n",
              "    30% {\n",
              "      border-color: transparent;\n",
              "      border-left-color: var(--fill-color);\n",
              "      border-top-color: var(--fill-color);\n",
              "      border-right-color: var(--fill-color);\n",
              "    }\n",
              "    40% {\n",
              "      border-color: transparent;\n",
              "      border-right-color: var(--fill-color);\n",
              "      border-top-color: var(--fill-color);\n",
              "    }\n",
              "    60% {\n",
              "      border-color: transparent;\n",
              "      border-right-color: var(--fill-color);\n",
              "    }\n",
              "    80% {\n",
              "      border-color: transparent;\n",
              "      border-right-color: var(--fill-color);\n",
              "      border-bottom-color: var(--fill-color);\n",
              "    }\n",
              "    90% {\n",
              "      border-color: transparent;\n",
              "      border-bottom-color: var(--fill-color);\n",
              "    }\n",
              "  }\n",
              "</style>\n",
              "\n",
              "  <script>\n",
              "    async function quickchart(key) {\n",
              "      const quickchartButtonEl =\n",
              "        document.querySelector('#' + key + ' button');\n",
              "      quickchartButtonEl.disabled = true;  // To prevent multiple clicks.\n",
              "      quickchartButtonEl.classList.add('colab-df-spinner');\n",
              "      try {\n",
              "        const charts = await google.colab.kernel.invokeFunction(\n",
              "            'suggestCharts', [key], {});\n",
              "      } catch (error) {\n",
              "        console.error('Error during call to suggestCharts:', error);\n",
              "      }\n",
              "      quickchartButtonEl.classList.remove('colab-df-spinner');\n",
              "      quickchartButtonEl.classList.add('colab-df-quickchart-complete');\n",
              "    }\n",
              "    (() => {\n",
              "      let quickchartButtonEl =\n",
              "        document.querySelector('#df-4cf189a0-3eb2-490a-b619-bfaeb7714d35 button');\n",
              "      quickchartButtonEl.style.display =\n",
              "        google.colab.kernel.accessAllowed ? 'block' : 'none';\n",
              "    })();\n",
              "  </script>\n",
              "</div>\n",
              "\n",
              "  <div id=\"id_e821a3a3-3747-4ce9-b28a-744d8b1b8319\">\n",
              "    <style>\n",
              "      .colab-df-generate {\n",
              "        background-color: #E8F0FE;\n",
              "        border: none;\n",
              "        border-radius: 50%;\n",
              "        cursor: pointer;\n",
              "        display: none;\n",
              "        fill: #1967D2;\n",
              "        height: 32px;\n",
              "        padding: 0 0 0 0;\n",
              "        width: 32px;\n",
              "      }\n",
              "\n",
              "      .colab-df-generate:hover {\n",
              "        background-color: #E2EBFA;\n",
              "        box-shadow: 0px 1px 2px rgba(60, 64, 67, 0.3), 0px 1px 3px 1px rgba(60, 64, 67, 0.15);\n",
              "        fill: #174EA6;\n",
              "      }\n",
              "\n",
              "      [theme=dark] .colab-df-generate {\n",
              "        background-color: #3B4455;\n",
              "        fill: #D2E3FC;\n",
              "      }\n",
              "\n",
              "      [theme=dark] .colab-df-generate:hover {\n",
              "        background-color: #434B5C;\n",
              "        box-shadow: 0px 1px 3px 1px rgba(0, 0, 0, 0.15);\n",
              "        filter: drop-shadow(0px 1px 2px rgba(0, 0, 0, 0.3));\n",
              "        fill: #FFFFFF;\n",
              "      }\n",
              "    </style>\n",
              "    <button class=\"colab-df-generate\" onclick=\"generateWithVariable('reviews_df')\"\n",
              "            title=\"Generate code using this dataframe.\"\n",
              "            style=\"display:none;\">\n",
              "\n",
              "  <svg xmlns=\"http://www.w3.org/2000/svg\" height=\"24px\"viewBox=\"0 0 24 24\"\n",
              "       width=\"24px\">\n",
              "    <path d=\"M7,19H8.4L18.45,9,17,7.55,7,17.6ZM5,21V16.75L18.45,3.32a2,2,0,0,1,2.83,0l1.4,1.43a1.91,1.91,0,0,1,.58,1.4,1.91,1.91,0,0,1-.58,1.4L9.25,21ZM18.45,9,17,7.55Zm-12,3A5.31,5.31,0,0,0,4.9,8.1,5.31,5.31,0,0,0,1,6.5,5.31,5.31,0,0,0,4.9,4.9,5.31,5.31,0,0,0,6.5,1,5.31,5.31,0,0,0,8.1,4.9,5.31,5.31,0,0,0,12,6.5,5.46,5.46,0,0,0,6.5,12Z\"/>\n",
              "  </svg>\n",
              "    </button>\n",
              "    <script>\n",
              "      (() => {\n",
              "      const buttonEl =\n",
              "        document.querySelector('#id_e821a3a3-3747-4ce9-b28a-744d8b1b8319 button.colab-df-generate');\n",
              "      buttonEl.style.display =\n",
              "        google.colab.kernel.accessAllowed ? 'block' : 'none';\n",
              "\n",
              "      buttonEl.onclick = () => {\n",
              "        google.colab.notebook.generateWithVariable('reviews_df');\n",
              "      }\n",
              "      })();\n",
              "    </script>\n",
              "  </div>\n",
              "\n",
              "    </div>\n",
              "  </div>\n"
            ],
            "application/vnd.google.colaboratory.intrinsic+json": {
              "type": "dataframe",
              "variable_name": "reviews_df",
              "summary": "{\n  \"name\": \"reviews_df\",\n  \"rows\": 9246,\n  \"fields\": [\n    {\n      \"column\": \"ReviewID\",\n      \"properties\": {\n        \"dtype\": \"number\",\n        \"std\": 0,\n        \"min\": 1,\n        \"max\": 1,\n        \"num_unique_values\": 1,\n        \"samples\": [\n          1\n        ],\n        \"semantic_type\": \"\",\n        \"description\": \"\"\n      }\n    },\n    {\n      \"column\": \"ReviewScore\",\n      \"properties\": {\n        \"dtype\": \"number\",\n        \"std\": 1,\n        \"min\": 1,\n        \"max\": 5,\n        \"num_unique_values\": 5,\n        \"samples\": [\n          5\n        ],\n        \"semantic_type\": \"\",\n        \"description\": \"\"\n      }\n    },\n    {\n      \"column\": \"ReviewText\",\n      \"properties\": {\n        \"dtype\": \"string\",\n        \"num_unique_values\": 5890,\n        \"samples\": [\n          \"pleased with a to fragrance. it's a solid choice if you're not looking for anything extraordinary.\"\n        ],\n        \"semantic_type\": \"\",\n        \"description\": \"\"\n      }\n    },\n    {\n      \"column\": \"OrderID\",\n      \"properties\": {\n        \"dtype\": \"number\",\n        \"std\": 272424,\n        \"min\": 21,\n        \"max\": 942190,\n        \"num_unique_values\": 9246,\n        \"samples\": [\n          414255\n        ],\n        \"semantic_type\": \"\",\n        \"description\": \"\"\n      }\n    }\n  ]\n}"
            }
          },
          "metadata": {},
          "execution_count": 26
        }
      ],
      "source": [
        "reviews_df"
      ]
    },
    {
      "cell_type": "markdown",
      "metadata": {
        "id": "7RAeN7SiMz41"
      },
      "source": [
        "4 / Transformez la target en utilisant les correspondances suivantes :\n",
        "- 1 => 0\n",
        "- 2 => 0\n",
        "- 3 => 0\n",
        "- 4 => 1\n",
        "- 5 => 1"
      ]
    },
    {
      "cell_type": "code",
      "execution_count": 27,
      "metadata": {
        "colab": {
          "base_uri": "https://localhost:8080/",
          "height": 458
        },
        "id": "436giZCdL-NI",
        "outputId": "2c27dead-7012-4901-9ae2-49e643fd382a"
      },
      "outputs": [
        {
          "output_type": "execute_result",
          "data": {
            "text/plain": [
              "0       1\n",
              "1       1\n",
              "2       1\n",
              "3       1\n",
              "4       1\n",
              "       ..\n",
              "9241    0\n",
              "9242    0\n",
              "9243    1\n",
              "9244    1\n",
              "9245    0\n",
              "Name: ReviewScore, Length: 9246, dtype: int64"
            ],
            "text/html": [
              "<div>\n",
              "<style scoped>\n",
              "    .dataframe tbody tr th:only-of-type {\n",
              "        vertical-align: middle;\n",
              "    }\n",
              "\n",
              "    .dataframe tbody tr th {\n",
              "        vertical-align: top;\n",
              "    }\n",
              "\n",
              "    .dataframe thead th {\n",
              "        text-align: right;\n",
              "    }\n",
              "</style>\n",
              "<table border=\"1\" class=\"dataframe\">\n",
              "  <thead>\n",
              "    <tr style=\"text-align: right;\">\n",
              "      <th></th>\n",
              "      <th>ReviewScore</th>\n",
              "    </tr>\n",
              "  </thead>\n",
              "  <tbody>\n",
              "    <tr>\n",
              "      <th>0</th>\n",
              "      <td>1</td>\n",
              "    </tr>\n",
              "    <tr>\n",
              "      <th>1</th>\n",
              "      <td>1</td>\n",
              "    </tr>\n",
              "    <tr>\n",
              "      <th>2</th>\n",
              "      <td>1</td>\n",
              "    </tr>\n",
              "    <tr>\n",
              "      <th>3</th>\n",
              "      <td>1</td>\n",
              "    </tr>\n",
              "    <tr>\n",
              "      <th>4</th>\n",
              "      <td>1</td>\n",
              "    </tr>\n",
              "    <tr>\n",
              "      <th>...</th>\n",
              "      <td>...</td>\n",
              "    </tr>\n",
              "    <tr>\n",
              "      <th>9241</th>\n",
              "      <td>0</td>\n",
              "    </tr>\n",
              "    <tr>\n",
              "      <th>9242</th>\n",
              "      <td>0</td>\n",
              "    </tr>\n",
              "    <tr>\n",
              "      <th>9243</th>\n",
              "      <td>1</td>\n",
              "    </tr>\n",
              "    <tr>\n",
              "      <th>9244</th>\n",
              "      <td>1</td>\n",
              "    </tr>\n",
              "    <tr>\n",
              "      <th>9245</th>\n",
              "      <td>0</td>\n",
              "    </tr>\n",
              "  </tbody>\n",
              "</table>\n",
              "<p>9246 rows × 1 columns</p>\n",
              "</div><br><label><b>dtype:</b> int64</label>"
            ]
          },
          "metadata": {},
          "execution_count": 27
        }
      ],
      "source": [
        "y = reviews_df['ReviewScore'].map({1: 0, 2: 0, 3: 0, 4: 1, 5: 1})\n",
        "y"
      ]
    },
    {
      "cell_type": "markdown",
      "metadata": {
        "id": "OeU8s6YKNJd1"
      },
      "source": [
        "5 / Utilisez la méthode de hold-out pour ne garder que 20% de la donnée pour le test."
      ]
    },
    {
      "cell_type": "code",
      "execution_count": 28,
      "metadata": {
        "id": "KvGoo-awL9xE"
      },
      "outputs": [],
      "source": [
        "from sklearn.model_selection import train_test_split\n",
        "X_train, X_test, y_train, y_test = train_test_split(X, y, test_size = 0.2, random_state=42)\n"
      ]
    },
    {
      "cell_type": "markdown",
      "metadata": {
        "id": "yzMSQ1mvNS45"
      },
      "source": [
        "6 / Appliquez sur le X_train toutes les méthodes de transformations de la donnée que vous connaissez et qui vous paraissent pertinentes."
      ]
    },
    {
      "cell_type": "code",
      "execution_count": 29,
      "metadata": {
        "id": "KVIHOIJ2LjQx",
        "colab": {
          "base_uri": "https://localhost:8080/"
        },
        "outputId": "e9f89e39-265f-450b-d984-08b9e9e10086"
      },
      "outputs": [
        {
          "output_type": "stream",
          "name": "stderr",
          "text": [
            "[nltk_data] Downloading package punkt to /root/nltk_data...\n",
            "[nltk_data]   Package punkt is already up-to-date!\n",
            "[nltk_data] Downloading package wordnet to /root/nltk_data...\n",
            "[nltk_data]   Package wordnet is already up-to-date!\n",
            "[nltk_data] Downloading package stopwords to /root/nltk_data...\n",
            "[nltk_data]   Package stopwords is already up-to-date!\n"
          ]
        },
        {
          "output_type": "stream",
          "name": "stdout",
          "text": [
            "8229    [pleased, with, vera, their, care, plant, easy...\n",
            "5267    [product, performs, well, for, it, intended, use]\n",
            "6901    [couldnt, be, happier, with, of, or, natural, ...\n",
            "6361    [expected, a, lot, more, from, collection, for...\n",
            "603     [pleasantly, surprised, with, the, quality, at...\n",
            "                              ...                        \n",
            "5734    [pleased, with, creating, indoor, it, a, solid...\n",
            "5191    [enjoyed, curated, fragrance, your, color, blo...\n",
            "5390    [pleased, with, adding, of, specie, perfect, t...\n",
            "860     [absolutely, in, love, with, peony, lush, bloo...\n",
            "7270    [pleased, with, fragrance, selection, of, and,...\n",
            "Name: ReviewText, Length: 7396, dtype: object\n"
          ]
        }
      ],
      "source": [
        "import re\n",
        "import nltk\n",
        "from nltk.corpus import stopwords\n",
        "from nltk.tokenize import word_tokenize\n",
        "from nltk.stem import WordNetLemmatizer\n",
        "nltk.download('punkt')\n",
        "nltk.download('wordnet')\n",
        "nltk.download('stopwords')\n",
        "\n",
        "X_train = X_train.astype(str).fillna('')\n",
        "X_train = X_train.str.lower()\n",
        "X_train = X_train.apply(lambda x: re.sub(r'[^\\w\\s]', '', x))\n",
        "X_train = X_train.apply(word_tokenize)\n",
        "lemmatizer = WordNetLemmatizer()\n",
        "X_train = X_train.apply(lambda tokens: [lemmatizer.lemmatize(word) for word in tokens])\n",
        "print(X_train)\n"
      ]
    },
    {
      "cell_type": "markdown",
      "metadata": {
        "id": "lK8IZdE2RqoM"
      },
      "source": [
        "7 / Appliquez sur le X_test les mêmes transformations en les ajustant si nécessaire."
      ]
    },
    {
      "cell_type": "code",
      "source": [
        "X_train"
      ],
      "metadata": {
        "colab": {
          "base_uri": "https://localhost:8080/",
          "height": 458
        },
        "id": "7hJJxL7gjvbf",
        "outputId": "6ce0fb89-c4f6-478f-f0fc-0a7d791ddc11"
      },
      "execution_count": 30,
      "outputs": [
        {
          "output_type": "execute_result",
          "data": {
            "text/plain": [
              "8229    [pleased, with, vera, their, care, plant, easy...\n",
              "5267    [product, performs, well, for, it, intended, use]\n",
              "6901    [couldnt, be, happier, with, of, or, natural, ...\n",
              "6361    [expected, a, lot, more, from, collection, for...\n",
              "603     [pleasantly, surprised, with, the, quality, at...\n",
              "                              ...                        \n",
              "5734    [pleased, with, creating, indoor, it, a, solid...\n",
              "5191    [enjoyed, curated, fragrance, your, color, blo...\n",
              "5390    [pleased, with, adding, of, specie, perfect, t...\n",
              "860     [absolutely, in, love, with, peony, lush, bloo...\n",
              "7270    [pleased, with, fragrance, selection, of, and,...\n",
              "Name: ReviewText, Length: 7396, dtype: object"
            ],
            "text/html": [
              "<div>\n",
              "<style scoped>\n",
              "    .dataframe tbody tr th:only-of-type {\n",
              "        vertical-align: middle;\n",
              "    }\n",
              "\n",
              "    .dataframe tbody tr th {\n",
              "        vertical-align: top;\n",
              "    }\n",
              "\n",
              "    .dataframe thead th {\n",
              "        text-align: right;\n",
              "    }\n",
              "</style>\n",
              "<table border=\"1\" class=\"dataframe\">\n",
              "  <thead>\n",
              "    <tr style=\"text-align: right;\">\n",
              "      <th></th>\n",
              "      <th>ReviewText</th>\n",
              "    </tr>\n",
              "  </thead>\n",
              "  <tbody>\n",
              "    <tr>\n",
              "      <th>8229</th>\n",
              "      <td>[pleased, with, vera, their, care, plant, easy...</td>\n",
              "    </tr>\n",
              "    <tr>\n",
              "      <th>5267</th>\n",
              "      <td>[product, performs, well, for, it, intended, use]</td>\n",
              "    </tr>\n",
              "    <tr>\n",
              "      <th>6901</th>\n",
              "      <td>[couldnt, be, happier, with, of, or, natural, ...</td>\n",
              "    </tr>\n",
              "    <tr>\n",
              "      <th>6361</th>\n",
              "      <td>[expected, a, lot, more, from, collection, for...</td>\n",
              "    </tr>\n",
              "    <tr>\n",
              "      <th>603</th>\n",
              "      <td>[pleasantly, surprised, with, the, quality, at...</td>\n",
              "    </tr>\n",
              "    <tr>\n",
              "      <th>...</th>\n",
              "      <td>...</td>\n",
              "    </tr>\n",
              "    <tr>\n",
              "      <th>5734</th>\n",
              "      <td>[pleased, with, creating, indoor, it, a, solid...</td>\n",
              "    </tr>\n",
              "    <tr>\n",
              "      <th>5191</th>\n",
              "      <td>[enjoyed, curated, fragrance, your, color, blo...</td>\n",
              "    </tr>\n",
              "    <tr>\n",
              "      <th>5390</th>\n",
              "      <td>[pleased, with, adding, of, specie, perfect, t...</td>\n",
              "    </tr>\n",
              "    <tr>\n",
              "      <th>860</th>\n",
              "      <td>[absolutely, in, love, with, peony, lush, bloo...</td>\n",
              "    </tr>\n",
              "    <tr>\n",
              "      <th>7270</th>\n",
              "      <td>[pleased, with, fragrance, selection, of, and,...</td>\n",
              "    </tr>\n",
              "  </tbody>\n",
              "</table>\n",
              "<p>7396 rows × 1 columns</p>\n",
              "</div><br><label><b>dtype:</b> object</label>"
            ]
          },
          "metadata": {},
          "execution_count": 30
        }
      ]
    },
    {
      "cell_type": "code",
      "execution_count": 32,
      "metadata": {
        "id": "UgfwSk8pLkT6",
        "colab": {
          "base_uri": "https://localhost:8080/"
        },
        "outputId": "0132c7b5-9aa4-4e05-8a90-afd6484ccb35"
      },
      "outputs": [
        {
          "output_type": "stream",
          "name": "stdout",
          "text": [
            "6317         [item, arrived, on, time, and, a, described]\n",
            "5714     [meet, the, requirement, no, complaint, so, far]\n",
            "7770           [amazing, product, go, above, and, beyond]\n",
            "4561    [customer, service, wa, helpful, and, responsive]\n",
            "3918    [absolutely, in, love, with, outdoor, for, jas...\n",
            "                              ...                        \n",
            "5942    [bring, piece, tree, is, phenomenal, truly, wo...\n",
            "5875    [pleased, with, ideal, collection, screen, or,...\n",
            "48      [good, value, for, the, price, happy, with, th...\n",
            "4159    [expected, a, lot, more, from, love, a, tulip,...\n",
            "1053     [highquality, and, reliable, an, excellent, buy]\n",
            "Name: ReviewText, Length: 1850, dtype: object\n"
          ]
        }
      ],
      "source": [
        "X_test = X_test.astype(str).fillna('')\n",
        "X_test = X_test.str.lower()\n",
        "X_test = X_test.apply(lambda x: re.sub(r'[^\\w\\s]', '', x))\n",
        "X_test = X_test.apply(word_tokenize)\n",
        "lemmatizer = WordNetLemmatizer()\n",
        "X_test = X_test.apply(lambda tokens: [lemmatizer.lemmatize(word) for word in tokens])\n",
        "print(X_test)\n"
      ]
    },
    {
      "cell_type": "markdown",
      "metadata": {
        "id": "jCYJtsVCLnbi"
      },
      "source": [
        "# Baseline"
      ]
    },
    {
      "cell_type": "markdown",
      "metadata": {
        "id": "nEh167ECNV22"
      },
      "source": [
        "8 / Vous voulez prédire la note à partir du commentaire.\n",
        "\n",
        "- Quel type de tâche est-ce ?\n",
        "\n",
        "- Quelle métrique est appropriée pour ce type de tâche et pourquoi ?"
      ]
    },
    {
      "cell_type": "markdown",
      "metadata": {
        "id": "RhWHrNbsMpsR"
      },
      "source": [
        "classification binaire (review score 0 ou 1). La metrique peut être l'accuracy"
      ]
    },
    {
      "cell_type": "markdown",
      "metadata": {
        "id": "OAGhj1Z9Nzel"
      },
      "source": [
        "9 / Calculez un score de baseline."
      ]
    },
    {
      "cell_type": "markdown",
      "metadata": {
        "id": "gTPaY-SjNxPt"
      },
      "source": [
        "il s'agit de analyse du sentiment: le plus bas, le plus négative, et vice-versa. Quelle métrique:probabilité."
      ]
    },
    {
      "cell_type": "markdown",
      "metadata": {
        "id": "l6Z9VRhTigbD"
      },
      "source": []
    },
    {
      "cell_type": "code",
      "execution_count": 33,
      "metadata": {
        "colab": {
          "base_uri": "https://localhost:8080/"
        },
        "id": "BLsmd5YNigbD",
        "outputId": "a3af52df-5416-4c97-8823-ba99d94f14e6"
      },
      "outputs": [
        {
          "output_type": "stream",
          "name": "stdout",
          "text": [
            "1\n"
          ]
        }
      ],
      "source": [
        "import numpy as np\n",
        "from sklearn.metrics import accuracy_score\n",
        "freq_binary_score = y_train.mode()[0]\n",
        "print(freq_binary_score)\n"
      ]
    },
    {
      "cell_type": "code",
      "source": [
        "y_pred_baseline = [freq_binary_score] * len(y_test)\n",
        "accuracy_baseline = accuracy_score(y_test, y_pred_baseline)\n",
        "print(accuracy_baseline)"
      ],
      "metadata": {
        "colab": {
          "base_uri": "https://localhost:8080/"
        },
        "id": "LPQ-S_wOlspH",
        "outputId": "51636eeb-7347-4b6a-e0c0-b49bd22db136"
      },
      "execution_count": 34,
      "outputs": [
        {
          "output_type": "stream",
          "name": "stdout",
          "text": [
            "0.6535135135135135\n"
          ]
        }
      ]
    },
    {
      "cell_type": "code",
      "source": [
        "pip install protobuf==3.19.6"
      ],
      "metadata": {
        "colab": {
          "base_uri": "https://localhost:8080/"
        },
        "id": "RO9-bsj8lkrz",
        "outputId": "f88c556b-c220-402f-cd32-0e065f737b93"
      },
      "execution_count": 35,
      "outputs": [
        {
          "output_type": "stream",
          "name": "stdout",
          "text": [
            "Requirement already satisfied: protobuf==3.19.6 in /usr/local/lib/python3.10/dist-packages (3.19.6)\n"
          ]
        }
      ]
    },
    {
      "cell_type": "code",
      "execution_count": 36,
      "metadata": {
        "colab": {
          "base_uri": "https://localhost:8080/"
        },
        "id": "p1dMf6JxigbD",
        "outputId": "e3d74f82-acaf-4e7b-dc52-d8b65c1bd24a"
      },
      "outputs": [
        {
          "output_type": "stream",
          "name": "stdout",
          "text": [
            "Requirement already satisfied: tensorflow==2.10.0 in /usr/local/lib/python3.10/dist-packages (2.10.0)\n",
            "Requirement already satisfied: absl-py>=1.0.0 in /usr/local/lib/python3.10/dist-packages (from tensorflow==2.10.0) (1.4.0)\n",
            "Requirement already satisfied: astunparse>=1.6.0 in /usr/local/lib/python3.10/dist-packages (from tensorflow==2.10.0) (1.6.3)\n",
            "Requirement already satisfied: flatbuffers>=2.0 in /usr/local/lib/python3.10/dist-packages (from tensorflow==2.10.0) (24.3.25)\n",
            "Requirement already satisfied: gast<=0.4.0,>=0.2.1 in /usr/local/lib/python3.10/dist-packages (from tensorflow==2.10.0) (0.4.0)\n",
            "Requirement already satisfied: google-pasta>=0.1.1 in /usr/local/lib/python3.10/dist-packages (from tensorflow==2.10.0) (0.2.0)\n",
            "Requirement already satisfied: grpcio<2.0,>=1.24.3 in /usr/local/lib/python3.10/dist-packages (from tensorflow==2.10.0) (1.64.1)\n",
            "Requirement already satisfied: h5py>=2.9.0 in /usr/local/lib/python3.10/dist-packages (from tensorflow==2.10.0) (3.11.0)\n",
            "Requirement already satisfied: keras<2.11,>=2.10.0 in /usr/local/lib/python3.10/dist-packages (from tensorflow==2.10.0) (2.10.0)\n",
            "Requirement already satisfied: keras-preprocessing>=1.1.1 in /usr/local/lib/python3.10/dist-packages (from tensorflow==2.10.0) (1.1.2)\n",
            "Requirement already satisfied: libclang>=13.0.0 in /usr/local/lib/python3.10/dist-packages (from tensorflow==2.10.0) (18.1.1)\n",
            "Requirement already satisfied: numpy>=1.20 in /usr/local/lib/python3.10/dist-packages (from tensorflow==2.10.0) (1.26.4)\n",
            "Requirement already satisfied: opt-einsum>=2.3.2 in /usr/local/lib/python3.10/dist-packages (from tensorflow==2.10.0) (3.3.0)\n",
            "Requirement already satisfied: packaging in /usr/local/lib/python3.10/dist-packages (from tensorflow==2.10.0) (24.1)\n",
            "Requirement already satisfied: protobuf<3.20,>=3.9.2 in /usr/local/lib/python3.10/dist-packages (from tensorflow==2.10.0) (3.19.6)\n",
            "Requirement already satisfied: setuptools in /usr/local/lib/python3.10/dist-packages (from tensorflow==2.10.0) (71.0.4)\n",
            "Requirement already satisfied: six>=1.12.0 in /usr/local/lib/python3.10/dist-packages (from tensorflow==2.10.0) (1.16.0)\n",
            "Requirement already satisfied: tensorboard<2.11,>=2.10 in /usr/local/lib/python3.10/dist-packages (from tensorflow==2.10.0) (2.10.1)\n",
            "Requirement already satisfied: tensorflow-io-gcs-filesystem>=0.23.1 in /usr/local/lib/python3.10/dist-packages (from tensorflow==2.10.0) (0.37.1)\n",
            "Requirement already satisfied: tensorflow-estimator<2.11,>=2.10.0 in /usr/local/lib/python3.10/dist-packages (from tensorflow==2.10.0) (2.10.0)\n",
            "Requirement already satisfied: termcolor>=1.1.0 in /usr/local/lib/python3.10/dist-packages (from tensorflow==2.10.0) (2.4.0)\n",
            "Requirement already satisfied: typing-extensions>=3.6.6 in /usr/local/lib/python3.10/dist-packages (from tensorflow==2.10.0) (4.12.2)\n",
            "Requirement already satisfied: wrapt>=1.11.0 in /usr/local/lib/python3.10/dist-packages (from tensorflow==2.10.0) (1.16.0)\n",
            "Requirement already satisfied: wheel<1.0,>=0.23.0 in /usr/local/lib/python3.10/dist-packages (from astunparse>=1.6.0->tensorflow==2.10.0) (0.44.0)\n",
            "Requirement already satisfied: google-auth<3,>=1.6.3 in /usr/local/lib/python3.10/dist-packages (from tensorboard<2.11,>=2.10->tensorflow==2.10.0) (2.27.0)\n",
            "Requirement already satisfied: google-auth-oauthlib<0.5,>=0.4.1 in /usr/local/lib/python3.10/dist-packages (from tensorboard<2.11,>=2.10->tensorflow==2.10.0) (0.4.6)\n",
            "Requirement already satisfied: markdown>=2.6.8 in /usr/local/lib/python3.10/dist-packages (from tensorboard<2.11,>=2.10->tensorflow==2.10.0) (3.7)\n",
            "Requirement already satisfied: requests<3,>=2.21.0 in /usr/local/lib/python3.10/dist-packages (from tensorboard<2.11,>=2.10->tensorflow==2.10.0) (2.32.3)\n",
            "Requirement already satisfied: tensorboard-data-server<0.7.0,>=0.6.0 in /usr/local/lib/python3.10/dist-packages (from tensorboard<2.11,>=2.10->tensorflow==2.10.0) (0.6.1)\n",
            "Requirement already satisfied: tensorboard-plugin-wit>=1.6.0 in /usr/local/lib/python3.10/dist-packages (from tensorboard<2.11,>=2.10->tensorflow==2.10.0) (1.8.1)\n",
            "Requirement already satisfied: werkzeug>=1.0.1 in /usr/local/lib/python3.10/dist-packages (from tensorboard<2.11,>=2.10->tensorflow==2.10.0) (3.0.4)\n",
            "Requirement already satisfied: cachetools<6.0,>=2.0.0 in /usr/local/lib/python3.10/dist-packages (from google-auth<3,>=1.6.3->tensorboard<2.11,>=2.10->tensorflow==2.10.0) (5.5.0)\n",
            "Requirement already satisfied: pyasn1-modules>=0.2.1 in /usr/local/lib/python3.10/dist-packages (from google-auth<3,>=1.6.3->tensorboard<2.11,>=2.10->tensorflow==2.10.0) (0.4.1)\n",
            "Requirement already satisfied: rsa<5,>=3.1.4 in /usr/local/lib/python3.10/dist-packages (from google-auth<3,>=1.6.3->tensorboard<2.11,>=2.10->tensorflow==2.10.0) (4.9)\n",
            "Requirement already satisfied: requests-oauthlib>=0.7.0 in /usr/local/lib/python3.10/dist-packages (from google-auth-oauthlib<0.5,>=0.4.1->tensorboard<2.11,>=2.10->tensorflow==2.10.0) (1.3.1)\n",
            "Requirement already satisfied: charset-normalizer<4,>=2 in /usr/local/lib/python3.10/dist-packages (from requests<3,>=2.21.0->tensorboard<2.11,>=2.10->tensorflow==2.10.0) (3.3.2)\n",
            "Requirement already satisfied: idna<4,>=2.5 in /usr/local/lib/python3.10/dist-packages (from requests<3,>=2.21.0->tensorboard<2.11,>=2.10->tensorflow==2.10.0) (3.8)\n",
            "Requirement already satisfied: urllib3<3,>=1.21.1 in /usr/local/lib/python3.10/dist-packages (from requests<3,>=2.21.0->tensorboard<2.11,>=2.10->tensorflow==2.10.0) (2.0.7)\n",
            "Requirement already satisfied: certifi>=2017.4.17 in /usr/local/lib/python3.10/dist-packages (from requests<3,>=2.21.0->tensorboard<2.11,>=2.10->tensorflow==2.10.0) (2024.8.30)\n",
            "Requirement already satisfied: MarkupSafe>=2.1.1 in /usr/local/lib/python3.10/dist-packages (from werkzeug>=1.0.1->tensorboard<2.11,>=2.10->tensorflow==2.10.0) (2.1.5)\n",
            "Requirement already satisfied: pyasn1<0.7.0,>=0.4.6 in /usr/local/lib/python3.10/dist-packages (from pyasn1-modules>=0.2.1->google-auth<3,>=1.6.3->tensorboard<2.11,>=2.10->tensorflow==2.10.0) (0.6.1)\n",
            "Requirement already satisfied: oauthlib>=3.0.0 in /usr/local/lib/python3.10/dist-packages (from requests-oauthlib>=0.7.0->google-auth-oauthlib<0.5,>=0.4.1->tensorboard<2.11,>=2.10->tensorflow==2.10.0) (3.2.2)\n"
          ]
        }
      ],
      "source": [
        "pip install tensorflow==2.10.0"
      ]
    },
    {
      "cell_type": "code",
      "execution_count": 37,
      "metadata": {
        "colab": {
          "base_uri": "https://localhost:8080/",
          "height": 458
        },
        "id": "99SIhkQbigbD",
        "outputId": "891278ca-a37a-401d-f1bd-2c31ece4cc30"
      },
      "outputs": [
        {
          "output_type": "execute_result",
          "data": {
            "text/plain": [
              "8229    [pleased, with, vera, their, care, plant, easy...\n",
              "5267    [product, performs, well, for, it, intended, use]\n",
              "6901    [couldnt, be, happier, with, of, or, natural, ...\n",
              "6361    [expected, a, lot, more, from, collection, for...\n",
              "603     [pleasantly, surprised, with, the, quality, at...\n",
              "                              ...                        \n",
              "5734    [pleased, with, creating, indoor, it, a, solid...\n",
              "5191    [enjoyed, curated, fragrance, your, color, blo...\n",
              "5390    [pleased, with, adding, of, specie, perfect, t...\n",
              "860     [absolutely, in, love, with, peony, lush, bloo...\n",
              "7270    [pleased, with, fragrance, selection, of, and,...\n",
              "Name: ReviewText, Length: 7396, dtype: object"
            ],
            "text/html": [
              "<div>\n",
              "<style scoped>\n",
              "    .dataframe tbody tr th:only-of-type {\n",
              "        vertical-align: middle;\n",
              "    }\n",
              "\n",
              "    .dataframe tbody tr th {\n",
              "        vertical-align: top;\n",
              "    }\n",
              "\n",
              "    .dataframe thead th {\n",
              "        text-align: right;\n",
              "    }\n",
              "</style>\n",
              "<table border=\"1\" class=\"dataframe\">\n",
              "  <thead>\n",
              "    <tr style=\"text-align: right;\">\n",
              "      <th></th>\n",
              "      <th>ReviewText</th>\n",
              "    </tr>\n",
              "  </thead>\n",
              "  <tbody>\n",
              "    <tr>\n",
              "      <th>8229</th>\n",
              "      <td>[pleased, with, vera, their, care, plant, easy...</td>\n",
              "    </tr>\n",
              "    <tr>\n",
              "      <th>5267</th>\n",
              "      <td>[product, performs, well, for, it, intended, use]</td>\n",
              "    </tr>\n",
              "    <tr>\n",
              "      <th>6901</th>\n",
              "      <td>[couldnt, be, happier, with, of, or, natural, ...</td>\n",
              "    </tr>\n",
              "    <tr>\n",
              "      <th>6361</th>\n",
              "      <td>[expected, a, lot, more, from, collection, for...</td>\n",
              "    </tr>\n",
              "    <tr>\n",
              "      <th>603</th>\n",
              "      <td>[pleasantly, surprised, with, the, quality, at...</td>\n",
              "    </tr>\n",
              "    <tr>\n",
              "      <th>...</th>\n",
              "      <td>...</td>\n",
              "    </tr>\n",
              "    <tr>\n",
              "      <th>5734</th>\n",
              "      <td>[pleased, with, creating, indoor, it, a, solid...</td>\n",
              "    </tr>\n",
              "    <tr>\n",
              "      <th>5191</th>\n",
              "      <td>[enjoyed, curated, fragrance, your, color, blo...</td>\n",
              "    </tr>\n",
              "    <tr>\n",
              "      <th>5390</th>\n",
              "      <td>[pleased, with, adding, of, specie, perfect, t...</td>\n",
              "    </tr>\n",
              "    <tr>\n",
              "      <th>860</th>\n",
              "      <td>[absolutely, in, love, with, peony, lush, bloo...</td>\n",
              "    </tr>\n",
              "    <tr>\n",
              "      <th>7270</th>\n",
              "      <td>[pleased, with, fragrance, selection, of, and,...</td>\n",
              "    </tr>\n",
              "  </tbody>\n",
              "</table>\n",
              "<p>7396 rows × 1 columns</p>\n",
              "</div><br><label><b>dtype:</b> object</label>"
            ]
          },
          "metadata": {},
          "execution_count": 37
        }
      ],
      "source": [
        "X_train"
      ]
    },
    {
      "cell_type": "markdown",
      "metadata": {
        "id": "TzbJuQAGLqXl"
      },
      "source": [
        "# Votre architecture de RNN"
      ]
    },
    {
      "cell_type": "markdown",
      "metadata": {
        "id": "IFlHj9S0ywJZ"
      },
      "source": [
        "Executez le code ci-dessous pour tokenizer et padder la donnée."
      ]
    },
    {
      "cell_type": "code",
      "execution_count": 40,
      "metadata": {
        "colab": {
          "base_uri": "https://localhost:8080/"
        },
        "id": "Bo3PAWwEy02J",
        "outputId": "a13eda5e-4cea-47fa-d5eb-87539e062601"
      },
      "outputs": [
        {
          "output_type": "stream",
          "name": "stdout",
          "text": [
            "                                              ReviewText\n",
            "Index                                                   \n",
            "8229   [pleased, with, vera, their, care, plant, easy...\n",
            "5267   [product, performs, well, for, it, intended, use]\n",
            "6901   [couldnt, be, happier, with, of, or, natural, ...\n",
            "6361   [expected, a, lot, more, from, collection, for...\n",
            "603    [pleasantly, surprised, with, the, quality, at...\n",
            "...                                                  ...\n",
            "5734   [pleased, with, creating, indoor, it, a, solid...\n",
            "5191   [enjoyed, curated, fragrance, your, color, blo...\n",
            "5390   [pleased, with, adding, of, specie, perfect, t...\n",
            "860    [absolutely, in, love, with, peony, lush, bloo...\n",
            "7270   [pleased, with, fragrance, selection, of, and,...\n",
            "\n",
            "[7396 rows x 1 columns]\n"
          ]
        }
      ],
      "source": [
        "X_train = X_train.reset_index()\n",
        "X_train.columns = ['Index', 'ReviewText']\n",
        "X_train = X_train.set_index('Index')\n",
        "print(X_train)\n"
      ]
    },
    {
      "cell_type": "code",
      "source": [
        "X_test = X_test.reset_index()\n",
        "X_test.columns = ['Index', 'ReviewText']\n",
        "X_test = X_test.set_index('Index')\n",
        "print(X_test)"
      ],
      "metadata": {
        "colab": {
          "base_uri": "https://localhost:8080/"
        },
        "id": "HQZid3z-pQsY",
        "outputId": "106d59a9-e07b-4a8e-ff38-5fd097e10477"
      },
      "execution_count": 41,
      "outputs": [
        {
          "output_type": "stream",
          "name": "stdout",
          "text": [
            "                                              ReviewText\n",
            "Index                                                   \n",
            "6317        [item, arrived, on, time, and, a, described]\n",
            "5714    [meet, the, requirement, no, complaint, so, far]\n",
            "7770          [amazing, product, go, above, and, beyond]\n",
            "4561   [customer, service, wa, helpful, and, responsive]\n",
            "3918   [absolutely, in, love, with, outdoor, for, jas...\n",
            "...                                                  ...\n",
            "5942   [bring, piece, tree, is, phenomenal, truly, wo...\n",
            "5875   [pleased, with, ideal, collection, screen, or,...\n",
            "48     [good, value, for, the, price, happy, with, th...\n",
            "4159   [expected, a, lot, more, from, love, a, tulip,...\n",
            "1053    [highquality, and, reliable, an, excellent, buy]\n",
            "\n",
            "[1850 rows x 1 columns]\n"
          ]
        }
      ]
    },
    {
      "cell_type": "code",
      "source": [
        "from keras.preprocessing.text import Tokenizer\n",
        "from tensorflow.keras.preprocessing.sequence import pad_sequences\n",
        "import pandas as pd"
      ],
      "metadata": {
        "id": "IgIRir-7pa1G"
      },
      "execution_count": 44,
      "outputs": []
    },
    {
      "cell_type": "code",
      "source": [
        "from nltk.tokenize import word_tokenize\n",
        "from keras.preprocessing.text import Tokenizer\n",
        "\n",
        "def get_mock_up_data(X_train, X_test):\n",
        "\n",
        "    ### Let's tokenize the vocabulary\n",
        "    tk = Tokenizer()\n",
        "    tk.fit_on_texts(X_train['ReviewText'].tolist())\n",
        "    vocab_size = len(tk.word_index)\n",
        "    print(f'There are {vocab_size} different words in your corpus')\n",
        "    X_train_token = tk.texts_to_sequences(X_train['ReviewText'])\n",
        "    X_test_token = tk.texts_to_sequences(X_test['ReviewText'])\n",
        "\n",
        "    ### Pad the inputs\n",
        "    X_train_pad = pad_sequences(X_train_token, dtype='float32', padding='pre')\n",
        "    X_test_pad = pad_sequences(X_test_token, dtype='float32', padding='pre')\n",
        "\n",
        "    return X_train_pad, X_test_pad, vocab_size\n",
        "\n",
        "X_train_pad, X_test_pad, vocab_size = get_mock_up_data(X_train, X_test)\n",
        "print(\"X_pad.shape\", X_train_pad.shape), print(\"Vocab size = \", vocab_size)"
      ],
      "metadata": {
        "colab": {
          "base_uri": "https://localhost:8080/"
        },
        "id": "Bn4VcTqmpC0S",
        "outputId": "277ac8b4-bbf9-44c8-ca58-81009175cb05"
      },
      "execution_count": 45,
      "outputs": [
        {
          "output_type": "stream",
          "name": "stdout",
          "text": [
            "There are 360 different words in your corpus\n",
            "X_pad.shape (7396, 29)\n",
            "Vocab size =  360\n"
          ]
        },
        {
          "output_type": "execute_result",
          "data": {
            "text/plain": [
              "(None, None)"
            ]
          },
          "metadata": {},
          "execution_count": 45
        }
      ]
    },
    {
      "cell_type": "markdown",
      "metadata": {
        "id": "vK1Bz-fyRgix"
      },
      "source": [
        "10 / Créez une architecture de RNN pour accomplir cette tâche et entraînez le modèle. Veillez à prendre des mesures pour éviter l'overfitting."
      ]
    },
    {
      "cell_type": "code",
      "execution_count": 47,
      "metadata": {
        "colab": {
          "base_uri": "https://localhost:8080/"
        },
        "id": "H1tnkPI1R9dO",
        "outputId": "bb108de9-ed9e-4267-bf42-f6ef59a45af4"
      },
      "outputs": [
        {
          "output_type": "stream",
          "name": "stdout",
          "text": [
            "Epoch 1/50\n",
            "232/232 [==============================] - 30s 85ms/step - loss: 0.4429 - accuracy: 0.7572 - val_loss: 0.3394 - val_accuracy: 0.7984\n",
            "Epoch 2/50\n",
            "232/232 [==============================] - 16s 67ms/step - loss: 0.3441 - accuracy: 0.7968 - val_loss: 0.3353 - val_accuracy: 0.8005\n",
            "Epoch 3/50\n",
            "232/232 [==============================] - 17s 75ms/step - loss: 0.3408 - accuracy: 0.7975 - val_loss: 0.3347 - val_accuracy: 0.8011\n",
            "Epoch 4/50\n",
            "232/232 [==============================] - 17s 75ms/step - loss: 0.3414 - accuracy: 0.7980 - val_loss: 0.3354 - val_accuracy: 0.8011\n",
            "Epoch 5/50\n",
            "232/232 [==============================] - 15s 67ms/step - loss: 0.3396 - accuracy: 0.7980 - val_loss: 0.3342 - val_accuracy: 0.8011\n",
            "Epoch 6/50\n",
            "232/232 [==============================] - 16s 68ms/step - loss: 0.3394 - accuracy: 0.7979 - val_loss: 0.3355 - val_accuracy: 0.8011\n",
            "Epoch 7/50\n",
            "232/232 [==============================] - 17s 71ms/step - loss: 0.3434 - accuracy: 0.7981 - val_loss: 0.3337 - val_accuracy: 0.8011\n",
            "Epoch 8/50\n",
            "232/232 [==============================] - 20s 86ms/step - loss: 0.3388 - accuracy: 0.7987 - val_loss: 0.3347 - val_accuracy: 0.8011\n",
            "Epoch 9/50\n",
            "232/232 [==============================] - 30s 129ms/step - loss: 0.3397 - accuracy: 0.7983 - val_loss: 0.3355 - val_accuracy: 0.8011\n",
            "Epoch 10/50\n",
            "232/232 [==============================] - 17s 72ms/step - loss: 0.3390 - accuracy: 0.7991 - val_loss: 0.3355 - val_accuracy: 0.8005\n"
          ]
        }
      ],
      "source": [
        "# prompt: RNN with 3 dense layers\n",
        "\n",
        "from tensorflow.keras import Sequential, layers\n",
        "from tensorflow.keras.callbacks import EarlyStopping\n",
        "\n",
        "embedding_dimension = 50\n",
        "model = Sequential()\n",
        "model.add(layers.Embedding(input_dim=vocab_size + 1, output_dim=embedding_dimension, mask_zero=True))\n",
        "model.add(layers.LSTM(50, return_sequences=True))\n",
        "model.add(layers.Dropout(0.5))\n",
        "model.add(layers.LSTM(50))\n",
        "model.add(layers.Dropout(0.5))\n",
        "model.add(layers.Dense(10, activation=\"relu\"))\n",
        "model.add(layers.Dense(1, activation=\"sigmoid\"))\n",
        "model.compile(loss='binary_crossentropy', optimizer='adam', metrics=['accuracy'])\n",
        "es = EarlyStopping(monitor='val_loss', patience=3)\n",
        "RNN_history = model.fit(X_train_pad, y_train, validation_data=(X_test_pad, y_test), epochs=50, batch_size=32, validation_split=0.3, callbacks=[es])\n",
        "\n",
        "\n"
      ]
    },
    {
      "cell_type": "markdown",
      "metadata": {
        "id": "kfxOOKRSR9zr"
      },
      "source": [
        "11 / Évaluez votre modèle de RNN sur les données de X_test et enregistrez la métrique dans RNN_metric."
      ]
    },
    {
      "cell_type": "code",
      "execution_count": 49,
      "metadata": {
        "id": "874ZdUdDSG0f",
        "colab": {
          "base_uri": "https://localhost:8080/"
        },
        "outputId": "9491b7ef-c848-47cf-d5af-3583194bda50"
      },
      "outputs": [
        {
          "output_type": "stream",
          "name": "stdout",
          "text": [
            "58/58 [==============================] - 5s 16ms/step\n"
          ]
        },
        {
          "output_type": "execute_result",
          "data": {
            "text/plain": [
              "array([[5.5858964e-01],\n",
              "       [6.3377869e-01],\n",
              "       [9.9991661e-01],\n",
              "       ...,\n",
              "       [5.6556171e-01],\n",
              "       [3.4668716e-05],\n",
              "       [9.9984741e-01]], dtype=float32)"
            ]
          },
          "metadata": {},
          "execution_count": 49
        }
      ],
      "source": [
        "model.predict(X_test_pad)\n"
      ]
    },
    {
      "cell_type": "code",
      "source": [
        "RNN_results = model.evaluate(X_test_pad, y_test, verbose=0)\n",
        "RNN_test_loss = RNN_results[0]\n",
        "RNN_metric = RNN_results[1]\n",
        "print(RNN_metric)"
      ],
      "metadata": {
        "colab": {
          "base_uri": "https://localhost:8080/"
        },
        "id": "_f52Xw0UsVuz",
        "outputId": "ceee3118-ff18-4c80-c8eb-fea878971d22"
      },
      "execution_count": 50,
      "outputs": [
        {
          "output_type": "stream",
          "name": "stdout",
          "text": [
            "0.800540566444397\n"
          ]
        }
      ]
    },
    {
      "cell_type": "markdown",
      "metadata": {
        "id": "QXikBxLvLv1e"
      },
      "source": [
        "# Votre architecture de CNN"
      ]
    },
    {
      "cell_type": "markdown",
      "metadata": {
        "id": "wf_6ooOJSHLo"
      },
      "source": [
        "12 / Créez une architecture de CNN adaptée au texte pour accomplir cette tâche et entraînez le modèle. Veillez à prendre des mesures pour éviter l'overfitting."
      ]
    },
    {
      "cell_type": "code",
      "execution_count": 52,
      "metadata": {
        "id": "-UfnaK6GSMV4",
        "colab": {
          "base_uri": "https://localhost:8080/"
        },
        "outputId": "49c0f770-db78-403d-a8e9-047d26f9b8ac"
      },
      "outputs": [
        {
          "output_type": "stream",
          "name": "stdout",
          "text": [
            "Epoch 1/50\n",
            "232/232 [==============================] - 6s 23ms/step - loss: 0.4822 - accuracy: 0.7108 - val_loss: 0.4250 - val_accuracy: 0.7849\n",
            "Epoch 2/50\n",
            "232/232 [==============================] - 3s 14ms/step - loss: 0.3464 - accuracy: 0.7904 - val_loss: 0.3545 - val_accuracy: 0.7957\n",
            "Epoch 3/50\n",
            "232/232 [==============================] - 3s 14ms/step - loss: 0.3338 - accuracy: 0.8030 - val_loss: 0.3602 - val_accuracy: 0.7789\n",
            "Epoch 4/50\n",
            "232/232 [==============================] - 3s 14ms/step - loss: 0.3234 - accuracy: 0.8127 - val_loss: 0.3616 - val_accuracy: 0.7995\n",
            "Epoch 5/50\n",
            "232/232 [==============================] - 5s 22ms/step - loss: 0.3012 - accuracy: 0.8344 - val_loss: 0.3836 - val_accuracy: 0.7762\n"
          ]
        }
      ],
      "source": [
        "embedding_dimension = 50\n",
        "model_cnn = Sequential()\n",
        "model_cnn.add(layers.Embedding(input_dim=vocab_size + 1, output_dim=embedding_dimension, mask_zero=True))\n",
        "\n",
        "model_cnn.add(layers.Conv1D(filters=128, kernel_size=5, activation='relu', padding='same'))\n",
        "model_cnn.add(layers.MaxPooling1D(pool_size=4))\n",
        "model_cnn.add(layers.Conv1D(filters=64, kernel_size=5, activation='relu', padding='same'))\n",
        "model_cnn.add(layers.MaxPooling1D(pool_size=4))\n",
        "model_cnn.add(layers.GlobalMaxPooling1D())\n",
        "\n",
        "model_cnn.add(layers.Dense(10, activation=\"relu\"))\n",
        "model_cnn.add(layers.Dense(1, activation=\"sigmoid\"))\n",
        "model_cnn.compile(loss='binary_crossentropy', optimizer='adam', metrics=['accuracy'])\n",
        "es = EarlyStopping(monitor='val_loss', patience=3, restore_best_weights=True)\n",
        "CNN_history = model_cnn.fit(X_train_pad, y_train, validation_data=(X_test_pad, y_test), epochs=50, batch_size=32, callbacks=[es])"
      ]
    },
    {
      "cell_type": "markdown",
      "metadata": {
        "id": "d9Q5a2IDSM8v"
      },
      "source": [
        "13 / Évaluez votre modèle de CNN sur les données de X_test et enregistrez la métrique dans CNN_metric."
      ]
    },
    {
      "cell_type": "code",
      "source": [
        "CNN_results = model_cnn.evaluate(X_test_pad, y_test, verbose=0)\n",
        "CNN_test_loss = CNN_results[0]\n",
        "CNN_metric = CNN_results[1]\n",
        "print(CNN_metric)"
      ],
      "metadata": {
        "colab": {
          "base_uri": "https://localhost:8080/"
        },
        "id": "I4ar_YzqtWpW",
        "outputId": "1a892598-7e10-4144-fc73-6e96800c037c"
      },
      "execution_count": 53,
      "outputs": [
        {
          "output_type": "stream",
          "name": "stdout",
          "text": [
            "0.7956756949424744\n"
          ]
        }
      ]
    },
    {
      "cell_type": "markdown",
      "metadata": {
        "id": "cofDxGmlL0r9"
      },
      "source": [
        "# Conclusion"
      ]
    },
    {
      "cell_type": "markdown",
      "metadata": {
        "id": "o6m-kCrwSXYy"
      },
      "source": [
        "14 / Avez-vous battu votre baseline avec au moins un des modèles ?"
      ]
    },
    {
      "cell_type": "markdown",
      "metadata": {
        "id": "pRxvY-vUBSFx"
      },
      "source": [
        "*Répondez ici. Si oui, avec quel(s) modèles(s)?\n",
        "\n",
        "Oui, les deux modèles (RNN, CNN) ont battu le baseline\n"
      ]
    },
    {
      "cell_type": "markdown",
      "metadata": {
        "id": "yqPnwEyARGRe"
      },
      "source": [
        "# API"
      ]
    },
    {
      "cell_type": "markdown",
      "metadata": {
        "id": "P1StCSVdRIH6"
      },
      "source": [
        "15 / Vous souhaitez permettre à votre collègue aux États-Unis d'utiliser votre modèle pour faire des prédictions. Écrivez ci-dessous le script Python pour une API qui permettra d'effectuer des prédictions à l'aide de votre modèle.\n",
        "\n",
        "N'oubliez pas de documenter votre code : étapes, types de données, méthodes, etc."
      ]
    },
    {
      "cell_type": "code",
      "execution_count": null,
      "metadata": {
        "id": "TECemMANRHXT"
      },
      "outputs": [],
      "source": []
    },
    {
      "cell_type": "markdown",
      "metadata": {
        "id": "moU_0LrNTPzb"
      },
      "source": [
        "16 / Quelles sont les différentes étapes et commandes à effectuer dans le terminal pour déployer un modèle ?"
      ]
    },
    {
      "cell_type": "code",
      "execution_count": null,
      "metadata": {
        "id": "8S_FkVN-c8-f"
      },
      "outputs": [],
      "source": [
        "Étapes à suivre :\n",
        "\n",
        "        1.      Charger le modèle de machine learning (déjà entraîné et sauvegardé).\n",
        "        2.      Définir une API qui prend les données d’entrée sous forme de JSON et renvoie les prédictions.\n",
        "        3.      S’assurer que l’API accepte les requêtes HTTP POST et renvoie des réponses JSON.\n",
        "\n",
        "Script Python pour l’API\n",
        "\n",
        "from flask import Flask, request, jsonify\n",
        "import joblib  # Pour charger le modèle sauvegardé\n",
        "import numpy as np\n",
        "\n",
        "# Charger le modèle pré-entraîné\n",
        "model = joblib.load('path_to_your_saved_model/model.pkl')\n",
        "\n",
        "# Créer l'application Flask\n",
        "app = Flask(__name__)\n",
        "\n",
        "# Définir la route pour prédictions\n",
        "@app.route('/predict', methods=['POST'])\n",
        "def predict():\n",
        "    try:\n",
        "        # Extraire les données envoyées dans la requête\n",
        "        data = request.get_json(force=True)\n",
        "\n",
        "        # Assurez-vous que les données sont dans le bon format (array numpy ou liste)\n",
        "        input_data = np.array(data['features']).reshape(1, -1)\n",
        "\n",
        "        # Effectuer la prédiction\n",
        "        prediction = model.predict(input_data)\n",
        "\n",
        "        # Retourner la prédiction en format JSON\n",
        "        return jsonify({\n",
        "            'prediction': prediction.tolist()  # Convertir en liste pour JSON\n",
        "        })\n",
        "\n",
        "    except Exception as e:\n",
        "        # En cas d'erreur, retourner un message d'erreur\n",
        "        return jsonify({'error': str(e)})\n",
        "\n",
        "# Point de terminaison pour vérifier si l'API fonctionne correctement\n",
        "@app.route('/health', methods=['GET'])\n",
        "def health_check():\n",
        "    return jsonify({\"status\": \"API is running\"})\n",
        "\n",
        "# Lancer l'application Flask\n",
        "if __name__ == '__main__':\n",
        "    app.run(debug=True, host='0.0.0.0', port=5000)  # Expose l'API sur le port 5000\n",
        "\n",
        "Explications :\n",
        "\n",
        "        1.      Modèle pré-entraîné : Le modèle de machine learning est sauvegardé dans un fichier model.pkl. Vous pouvez utiliser joblib pour le charger.\n",
        "        2.      API Flask :\n",
        "        •       L’API accepte des requêtes POST à l’URL /predict.\n",
        "        •       Les données d’entrée doivent être envoyées au format JSON sous la clé features.\n",
        "        •       L’API renvoie une réponse JSON contenant la prédiction.\n",
        "        3.      Gestion des erreurs : Si une erreur survient (mauvais format de données, problème de modèle, etc.), l’API renvoie un message d’erreur approprié.\n",
        "        4.      Test de santé : Il y a une route /health pour vérifier que l’API est en marche. Elle renvoie simplement un statut indiquant que l’API fonctionne.\n",
        "\n",
        "Exemple de requête pour utiliser l’API :\n",
        "\n",
        "Vous pouvez utiliser cURL ou un client HTTP comme Postman pour tester l’API.\n",
        "\n",
        "Requête POST avec cURL :\n",
        "\n",
        "curl -X POST http://localhost:5000/predict \\\n",
        "    -H \"Content-Type: application/json\" \\\n",
        "    -d '{\"features\": [5.1, 3.5, 1.4, 0.2]}'\n",
        "\n",
        "Exemple de réponse JSON :\n",
        "\n",
        "{\n",
        "    \"prediction\": [0]\n",
        "}\n",
        "\n",
        "Déploiement :\n",
        "\n",
        "        •       Vous pouvez déployer cette API sur un serveur distant en utilisant des solutions comme Heroku, AWS EC2, Google Cloud, ou un autre service de votre choix.\n",
        "        •       Conseil de sécurité : Si l’API doit être exposée à des utilisateurs externes, assurez-vous d’ajouter des mécanismes de sécurité comme l’authentification (OAuth2, JWT) et d’utiliser HTTPS pour sécuriser les communications.\n",
        "\n",
        "Avec cette approche, vos collaborateurs peuvent accéder au modèle à distance et effectuer des prédictions via des requêtes HTTP.\n",
        "\n"
      ]
    },
    {
      "cell_type": "markdown",
      "metadata": {
        "id": "KWe0jd6rTXpq"
      },
      "source": [
        "*Répondez ici*"
      ]
    },
    {
      "cell_type": "markdown",
      "metadata": {
        "id": "ekcjCAw8R4Rk"
      },
      "source": [
        "17 / Quels sont les différents éléments sur lesquels vous pouvez évaluer et optimiser la performance de votre API ?"
      ]
    },
    {
      "cell_type": "markdown",
      "metadata": {
        "id": "bhurPpMxSKbn"
      },
      "source": [
        "Pour évaluer et optimiser la performance d’une API, plusieurs éléments clés doivent être pris en compte. Voici les principaux :\n",
        "\n",
        "1. Temps de réponse (latence)\n",
        "\n",
        "        •       Mesure : Le temps écoulé entre la requête d’un client et la réponse de l’API. Idéalement, ce temps doit être aussi court que possible.\n",
        "        •       Optimisation : Utiliser des serveurs plus proches des utilisateurs (CDN), des caches, et minimiser le nombre de requêtes HTTP.\n",
        "\n",
        "2. Débit (Throughput)\n",
        "\n",
        "        •       Mesure : Nombre de requêtes que l’API peut gérer par unité de temps (ex : requêtes par seconde).\n",
        "        •       Optimisation : Améliorer la scalabilité de l’infrastructure (horizontal ou vertical), mise en place de mécanismes de mise en cache, optimisation des bases de données pour réduire les temps de lecture/écriture.\n",
        "\n",
        "3. Scalabilité\n",
        "\n",
        "        •       Mesure : Capacité de l’API à gérer une augmentation de la charge (nombre d’utilisateurs ou de requêtes simultanées).\n",
        "        •       Optimisation : Utilisation de microservices, load balancers, déploiement d’instances supplémentaires automatiquement avec l’auto-scaling.\n",
        "\n",
        "4. Disponibilité (Uptime)\n",
        "\n",
        "        •       Mesure : Taux de disponibilité de l’API sur une période donnée. Un bon objectif est un taux de 99,9 % ou plus.\n",
        "        •       Optimisation : Redondance des serveurs, surveillance proactive, mise en place de plans de reprise après sinistre, hébergement multi-régions.\n",
        "\n",
        "5. Taille des réponses\n",
        "\n",
        "        •       Mesure : Volume des données retournées par l’API.\n",
        "        •       Optimisation : Compresser les réponses (Gzip, Brotli), réduire les payloads inutiles, utiliser des formats plus légers comme JSON ou Protobuf au lieu de XML.\n",
        "\n",
        "6. Efficacité de la base de données\n",
        "\n",
        "        •       Mesure : Temps d’accès et efficacité des requêtes à la base de données.\n",
        "        •       Optimisation : Indexer les tables, optimiser les requêtes SQL, implémenter des caches de requêtes, et utiliser des bases NoSQL pour les cas d’usage où cela est pertinent.\n",
        "\n",
        "7. Gestion des erreurs\n",
        "\n",
        "        •       Mesure : Gestion correcte des erreurs sans que l’API ne plante.\n",
        "        •       Optimisation : Améliorer la gestion des erreurs avec des réponses appropriées, monitorer les logs, éviter les 500 erreurs et retourner des erreurs spécifiques (400, 404, 429, etc.).\n",
        "\n",
        "8. Sécurité\n",
        "\n",
        "        •       Mesure : Protéger l’API contre les attaques (DoS, injections SQL, etc.).\n",
        "        •       Optimisation : Utiliser des jetons d’authentification (OAuth2, JWT), limiter le débit des requêtes, surveiller les menaces, utiliser HTTPS, et mettre à jour régulièrement les dépendances.\n",
        "\n",
        "9. Tests de performance\n",
        "\n",
        "        •       Mesure : Effectuer des tests de charge (stress tests, tests de montée en charge) pour évaluer la capacité de l’API sous des conditions d’utilisation intense.\n",
        "        •       Optimisation : Simuler différents scénarios d’usage pour anticiper les goulets d’étranglement, améliorer le code et l’infrastructure pour mieux gérer ces charges.\n",
        "\n",
        "10. Mécanismes de mise en cache\n",
        "\n",
        "        •       Mesure : Fréquence des requêtes répétées ou similaires.\n",
        "        •       Optimisation : Mettre en place un système de cache efficace au niveau des requêtes (ex. Redis, Memcached), utiliser des cache HTTP (comme Varnish), ou utiliser des reverse proxies.\n",
        "\n",
        "11. Concurrence et gestion des threads\n",
        "\n",
        "        •       Mesure : Capacité à traiter plusieurs requêtes simultanément.\n",
        "        •       Optimisation : Optimiser la gestion des threads et des pools de connexions, utiliser des frameworks asynchrones (Node.js, Golang), et éviter les blocages inutiles.\n",
        "\n",
        "12. Logs et surveillance\n",
        "\n",
        "        •       Mesure : Collecter et analyser les logs en temps réel pour détecter les anomalies.\n",
        "        •       Optimisation : Mettre en place une solution de monitoring (ex. Grafana, Prometheus) pour suivre la performance, détecter les problèmes et réagir rapidement en cas d’incident.\n",
        "\n",
        "13. Temps d’exécution des API externes (si l’API fait appel à d’autres services)\n",
        "\n",
        "        •       Mesure : Temps pris pour appeler et recevoir des réponses des API tierces.\n",
        "        •       Optimisation : Utiliser des solutions asynchrones ou des mécanismes de timeout pour éviter que des dépendances externes ne ralentissent l’API.\n",
        "\n",
        "En optimisant ces différents éléments, on peut améliorer significativement la performance, la fiabilité et la sécurité de l'API, ce qui se traduira par une meilleure expérience utilisateur."
      ]
    },
    {
      "cell_type": "markdown",
      "metadata": {
        "id": "OKWfdospSwy2"
      },
      "source": [
        "18 / Parmi les options suivantes, laquelle n'est pas un enjeu pour le bon déploiement d'un modèle ?\n",
        "\n",
        "Options :\n",
        "\n",
        "- L'éthique\n",
        "- La confidentialité\n",
        "- La taille du modèle\n",
        "- La sécurité"
      ]
    },
    {
      "cell_type": "markdown",
      "metadata": {
        "id": "WFtSUrIReIHx"
      },
      "source": [
        "L'éthique, confidentialité et sécurité sont important donc enjeu. La taille du modèle est le seul qui n'a pas d'enjeu."
      ]
    },
    {
      "cell_type": "markdown",
      "metadata": {
        "id": "LFn9VmcKTmby"
      },
      "source": [
        "19 / Quelles mesures pouvez-vous mettre en place pour répondre efficacement à ces enjeux lors du déploiement d'un modèle ?"
      ]
    },
    {
      "cell_type": "markdown",
      "metadata": {
        "id": "aOoXLrIoTyhm"
      },
      "source": [
        "Protection d'accés et données par mots de passe. Bien entendu, laissent les utilisateur signer un chart de bonne conduite / éthique. Et dans tous cas, la data doit être anonyme / porteger afin de répondre au RGPD.\n",
        "\n",
        "Lors du déploiement d’un modèle d’intelligence artificielle (IA) ou de machine learning (ML), il est crucial de répondre aux enjeux éthiques, de confidentialité et de sécurité. Voici les principales mesures à prendre pour aborder ces préoccupations de manière efficace :\n",
        "\n",
        "1. Mesures pour répondre aux enjeux éthiques\n",
        "\n",
        "a. Transparence\n",
        "\n",
        "        •       Explicabilité des modèles : Les décisions prises par le modèle doivent être compréhensibles et explicables. Utilisez des techniques d’interprétabilité (LIME, SHAP) pour expliquer les décisions prises.\n",
        "        •       Documentation : Publier une documentation complète décrivant le processus de formation, les données utilisées, et les limites du modèle.\n",
        "\n",
        "b. Équité et biais\n",
        "\n",
        "        •       Détection et atténuation des biais : Analyser les biais potentiels dans les données et dans le modèle pour s’assurer qu’il ne discrimine pas certains groupes (sexe, race, âge, etc.).\n",
        "        •       Diversité des données : Utiliser des données diversifiées et représentatives afin de minimiser les biais dans le modèle.\n",
        "        •       Audits réguliers : Mener des audits réguliers pour vérifier la présence de biais discriminatoires et corriger les problèmes détectés.\n",
        "\n",
        "c. Responsabilité\n",
        "\n",
        "        •       Responsabilité humaine : Désigner des équipes ou des personnes responsables des décisions prises par le modèle et mettre en place des processus pour que les utilisateurs puissent contester les décisions automatiques.\n",
        "        •       Gouvernance éthique : Créer des comités ou des équipes dédiées à l’éthique de l’IA pour superviser le développement et le déploiement des modèles.\n",
        "\n",
        "2. Mesures pour assurer la confidentialité des données\n",
        "\n",
        "a. Anonymisation et pseudonymisation\n",
        "\n",
        "        •       Anonymisation des données : Supprimer ou masquer les informations personnelles avant de les utiliser dans le modèle.\n",
        "        •       Pseudonymisation : Si la suppression complète n’est pas possible, utiliser des techniques de pseudonymisation pour masquer les identités tout en conservant les capacités analytiques.\n",
        "\n",
        "b. Minimisation des données\n",
        "\n",
        "        •       Collecte limitée de données : Ne collecter que les données strictement nécessaires au fonctionnement du modèle, conformément aux principes de minimisation des données (ex. RGPD).\n",
        "        •       Traitement localisé des données : Traiter les données de manière localisée (edge computing) pour éviter de centraliser des données sensibles.\n",
        "\n",
        "c. Accords de confidentialité et conformité réglementaire\n",
        "\n",
        "        •       Accords de confidentialité : Mettre en place des accords de confidentialité (NDA) avec les tiers qui interagissent avec les données sensibles.\n",
        "        •       Conformité réglementaire : S’assurer que les pratiques de gestion des données sont conformes aux réglementations locales et internationales (ex. RGPD, HIPAA).\n",
        "\n",
        "d. Droits des utilisateurs\n",
        "\n",
        "        •       Consentement éclairé : Informer les utilisateurs sur la manière dont leurs données seront utilisées et obtenir leur consentement explicite.\n",
        "        •       Droit à l’oubli : Mettre en place des mécanismes pour permettre aux utilisateurs de demander la suppression de leurs données (droit à l’oubli).\n",
        "\n",
        "3. Mesures pour renforcer la sécurité\n",
        "\n",
        "a. Sécurisation des données\n",
        "\n",
        "        •       Chiffrement des données : Utiliser le chiffrement pour les données en transit (via SSL/TLS) et au repos pour protéger les données sensibles.\n",
        "        •       Stockage sécurisé : S’assurer que les données sont stockées dans des environnements sécurisés avec des contrôles d’accès stricts (utilisation de bases de données chiffrées, gestion des clés sécurisées).\n",
        "\n",
        "b. Contrôles d’accès\n",
        "\n",
        "        •       Gestion des permissions : Mettre en œuvre une gestion rigoureuse des permissions pour garantir que seules les personnes ou systèmes autorisés peuvent accéder aux données ou aux modèles.\n",
        "        •       Authentification multi-facteurs : Utiliser des authentifications renforcées, telles que l’authentification multi-facteurs (MFA), pour les accès administratifs et les utilisateurs sensibles.\n",
        "\n",
        "c. Surveillance et audit\n",
        "\n",
        "        •       Surveillance continue : Mettre en place des systèmes de surveillance pour détecter les activités suspectes ou non autorisées (ex : SIEM – Security Information and Event Management).\n",
        "        •       Journalisation : Conserver des logs détaillés des accès et des actions sur les données et les modèles pour des audits réguliers.\n",
        "\n",
        "d. Gestion des vulnérabilités\n",
        "\n",
        "        •       Tests de sécurité : Effectuer des tests d’intrusion, des audits de sécurité, et des revues de code régulières pour détecter et corriger les vulnérabilités.\n",
        "        •       Patchs et mises à jour : Mettre à jour régulièrement les bibliothèques, frameworks et infrastructures pour protéger contre les vulnérabilités connues.\n",
        "\n",
        "e. Mécanismes de réponse aux incidents\n",
        "\n",
        "        •       Plans de réponse aux incidents : Développer des plans de réponse en cas de violation de la sécurité, incluant la communication avec les utilisateurs et les autorités compétentes.\n",
        "        •       Sauvegarde et restauration des données : Mettre en place des mécanismes de sauvegarde régulière et des plans de reprise après sinistre pour minimiser l’impact d’une éventuelle perte ou compromission de données.\n",
        "\n",
        "4. Mise en place de politiques et d’audit externes\n",
        "\n",
        "        •       Politiques internes : Mettre en place des politiques claires pour l’usage éthique et sécurisé des modèles d’IA.\n",
        "        •       Audits externes : Faire auditer les pratiques de sécurité, d’éthique et de confidentialité par des tiers pour garantir la conformité aux normes et réglementations.\n",
        "\n",
        "Ces mesures, mises en œuvre de manière proactive, permettent de garantir une utilisation responsable et sécurisée des modèles de machine learning, tout en renforçant la confiance des utilisateurs et en se conformant aux exigences légales et éthiques.\n",
        "\n",
        "\n"
      ]
    }
  ],
  "metadata": {
    "colab": {
      "provenance": [],
      "include_colab_link": true
    },
    "kernelspec": {
      "display_name": "Python 3",
      "name": "python3"
    },
    "language_info": {
      "codemirror_mode": {
        "name": "ipython",
        "version": 3
      },
      "file_extension": ".py",
      "mimetype": "text/x-python",
      "name": "python",
      "nbconvert_exporter": "python",
      "pygments_lexer": "ipython3",
      "version": "3.10.6"
    }
  },
  "nbformat": 4,
  "nbformat_minor": 0
}